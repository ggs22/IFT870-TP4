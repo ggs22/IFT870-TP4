{
 "cells": [
  {
   "cell_type": "markdown",
   "metadata": {},
   "source": [
    "# TP4_depart\n",
    "## IFT870/BIN710 Hiver 2021\n",
    "### Aida Ouangraoua"
   ]
  },
  {
   "cell_type": "code",
   "execution_count": 95,
   "metadata": {},
   "outputs": [],
   "source": [
    "import sklearn\n",
    "import numpy as np\n",
    "import scipy as sp\n",
    "import pandas as pd\n",
    "%matplotlib notebook\n",
    "import matplotlib.pyplot as plt\n",
    "import seaborn as sns"
   ]
  },
  {
   "cell_type": "code",
   "execution_count": 96,
   "metadata": {},
   "outputs": [
    {
     "data": {
      "text/plain": [
       "(395, 2)"
      ]
     },
     "execution_count": 96,
     "metadata": {},
     "output_type": "execute_result"
    }
   ],
   "source": [
    "TP4_data_file = \"RNA.csv\"\n",
    "TP4_data = pd.read_csv(TP4_data_file,index_col=0)\n",
    "TP4_data.shape"
   ]
  },
  {
   "cell_type": "code",
   "execution_count": 97,
   "metadata": {
    "scrolled": false
   },
   "outputs": [
    {
     "data": {
      "text/html": [
       "<div>\n",
       "<style scoped>\n",
       "    .dataframe tbody tr th:only-of-type {\n",
       "        vertical-align: middle;\n",
       "    }\n",
       "\n",
       "    .dataframe tbody tr th {\n",
       "        vertical-align: top;\n",
       "    }\n",
       "\n",
       "    .dataframe thead th {\n",
       "        text-align: right;\n",
       "    }\n",
       "</style>\n",
       "<table border=\"1\" class=\"dataframe\">\n",
       "  <thead>\n",
       "    <tr style=\"text-align: right;\">\n",
       "      <th></th>\n",
       "      <th>sequence</th>\n",
       "      <th>classe</th>\n",
       "    </tr>\n",
       "    <tr>\n",
       "      <th>id</th>\n",
       "      <th></th>\n",
       "      <th></th>\n",
       "    </tr>\n",
       "  </thead>\n",
       "  <tbody>\n",
       "    <tr>\n",
       "      <th>AF093014.1/662-809</th>\n",
       "      <td>CACUUUAAGUAAUGGAUGUCUUGGUUCUCAUAACGAUGAAGGACGC...</td>\n",
       "      <td>RF00002</td>\n",
       "    </tr>\n",
       "    <tr>\n",
       "      <th>M14649.1/2015-2169</th>\n",
       "      <td>AACUUUCAGCGACGGAUGUCUCGGCUCGAACAACGAUGAAGGGCGC...</td>\n",
       "      <td>RF00002</td>\n",
       "    </tr>\n",
       "    <tr>\n",
       "      <th>X53361.2/1206-1368</th>\n",
       "      <td>ACCUGUUGUGGUGGAUGUCUUGGCCCAGGUUCUGAGGAAGGACACA...</td>\n",
       "      <td>RF00002</td>\n",
       "    </tr>\n",
       "    <tr>\n",
       "      <th>M86760.1/218-371</th>\n",
       "      <td>AACUUUCAGCAAUGGAUCUCUUGGUUCCCGCGUCGAUGAAGAACGU...</td>\n",
       "      <td>RF00002</td>\n",
       "    </tr>\n",
       "    <tr>\n",
       "      <th>X00601.1/3997-4154</th>\n",
       "      <td>AAGCAUAAACGGUGAAUACCUCGACUCCUAAAUCGAUGAAGACCGU...</td>\n",
       "      <td>RF00002</td>\n",
       "    </tr>\n",
       "    <tr>\n",
       "      <th>U48228.1/7-166</th>\n",
       "      <td>CAAUCUUAACGAUGGAUGUCUUGGUUCCUAUAGCGAUGAAGGCCGC...</td>\n",
       "      <td>RF00002</td>\n",
       "    </tr>\n",
       "    <tr>\n",
       "      <th>U58510.1/2022-2198</th>\n",
       "      <td>AACCCUAGUGAUGGAUGUCUAGGCUCCCGUAUCGAUGAAGAACGUA...</td>\n",
       "      <td>RF00002</td>\n",
       "    </tr>\n",
       "    <tr>\n",
       "      <th>AL049755.2/30863-31016</th>\n",
       "      <td>AACUUUCAGCAACGGAUCUCUUGGCUCUCGCAUCGAUGAAGAACGC...</td>\n",
       "      <td>RF00002</td>\n",
       "    </tr>\n",
       "    <tr>\n",
       "      <th>U13369.1/6624-6776</th>\n",
       "      <td>GACUCUUAGCGGUGGAUCACUCGGCUCGUGCGUCGAUGAAGAACGC...</td>\n",
       "      <td>RF00002</td>\n",
       "    </tr>\n",
       "    <tr>\n",
       "      <th>V01159.1/185-331</th>\n",
       "      <td>ACCGUUGGGCGAUGGAUUGCUUGGUGCCUGCUUCGACGAAGAGCGC...</td>\n",
       "      <td>RF00002</td>\n",
       "    </tr>\n",
       "  </tbody>\n",
       "</table>\n",
       "</div>"
      ],
      "text/plain": [
       "                                                                 sequence  \\\n",
       "id                                                                          \n",
       "AF093014.1/662-809      CACUUUAAGUAAUGGAUGUCUUGGUUCUCAUAACGAUGAAGGACGC...   \n",
       "M14649.1/2015-2169      AACUUUCAGCGACGGAUGUCUCGGCUCGAACAACGAUGAAGGGCGC...   \n",
       "X53361.2/1206-1368      ACCUGUUGUGGUGGAUGUCUUGGCCCAGGUUCUGAGGAAGGACACA...   \n",
       "M86760.1/218-371        AACUUUCAGCAAUGGAUCUCUUGGUUCCCGCGUCGAUGAAGAACGU...   \n",
       "X00601.1/3997-4154      AAGCAUAAACGGUGAAUACCUCGACUCCUAAAUCGAUGAAGACCGU...   \n",
       "U48228.1/7-166          CAAUCUUAACGAUGGAUGUCUUGGUUCCUAUAGCGAUGAAGGCCGC...   \n",
       "U58510.1/2022-2198      AACCCUAGUGAUGGAUGUCUAGGCUCCCGUAUCGAUGAAGAACGUA...   \n",
       "AL049755.2/30863-31016  AACUUUCAGCAACGGAUCUCUUGGCUCUCGCAUCGAUGAAGAACGC...   \n",
       "U13369.1/6624-6776      GACUCUUAGCGGUGGAUCACUCGGCUCGUGCGUCGAUGAAGAACGC...   \n",
       "V01159.1/185-331        ACCGUUGGGCGAUGGAUUGCUUGGUGCCUGCUUCGACGAAGAGCGC...   \n",
       "\n",
       "                         classe  \n",
       "id                               \n",
       "AF093014.1/662-809      RF00002  \n",
       "M14649.1/2015-2169      RF00002  \n",
       "X53361.2/1206-1368      RF00002  \n",
       "M86760.1/218-371        RF00002  \n",
       "X00601.1/3997-4154      RF00002  \n",
       "U48228.1/7-166          RF00002  \n",
       "U58510.1/2022-2198      RF00002  \n",
       "AL049755.2/30863-31016  RF00002  \n",
       "U13369.1/6624-6776      RF00002  \n",
       "V01159.1/185-331        RF00002  "
      ]
     },
     "execution_count": 97,
     "metadata": {},
     "output_type": "execute_result"
    }
   ],
   "source": [
    "TP4_data[0:10]"
   ]
  }
 ],
 "metadata": {
  "kernelspec": {
   "display_name": "Python 3",
   "language": "python",
   "name": "python3"
  },
  "language_info": {
   "codemirror_mode": {
    "name": "ipython",
    "version": 3
   },
   "file_extension": ".py",
   "mimetype": "text/x-python",
   "name": "python",
   "nbconvert_exporter": "python",
   "pygments_lexer": "ipython3",
   "version": "3.7.3"
  }
 },
 "nbformat": 4,
 "nbformat_minor": 4
}
