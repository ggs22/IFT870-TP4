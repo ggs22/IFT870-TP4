{
 "cells": [
  {
   "cell_type": "markdown",
   "metadata": {},
   "source": [
    "# TP4_depart\n",
    "## IFT870/BIN710 Hiver 2021\n",
    "\n",
    "### Mathieu Lussier (LUSM1202)\n",
    "### Gabriel Gibeau Sanchez (GIBG2501)"
   ]
  },
  {
   "cell_type": "code",
   "execution_count": 1,
   "metadata": {},
   "outputs": [],
   "source": [
    "import sklearn\n",
    "import numpy as np\n",
    "import scipy as sp\n",
    "import pandas as pd\n",
    "import random\n",
    "\n",
    "import matplotlib.pyplot as plt\n",
    "%matplotlib inline\n",
    "import seaborn as sns\n",
    "\n",
    "from sklearn.model_selection import train_test_split\n",
    "from sklearn.model_selection import cross_val_score\n",
    "from sklearn.preprocessing import LabelEncoder\n",
    "\n",
    "from sklearn.neighbors import  KNeighborsClassifier\n",
    "from sklearn.linear_model import LogisticRegression\n",
    "from sklearn.svm import SVC, LinearSVC\n",
    "from sklearn.tree import DecisionTreeClassifier\n",
    "from sklearn.ensemble import RandomForestClassifier\n",
    "from sklearn.naive_bayes import GaussianNB\n",
    "from sklearn.neural_network import MLPClassifier\n",
    "\n",
    "\n",
    "from itertools import product\n",
    "from re import finditer\n",
    "import warnings\n",
    "warnings.filterwarnings(\"ignore\")\n",
    "\n",
    "# for printing variables in a markdown cell\n",
    "from IPython.display import Markdown as md"
   ]
  },
  {
   "cell_type": "markdown",
   "metadata": {},
   "source": [
    "#### Détails\n",
    "Il est à noter que le fichier RNA.csv remit sur turnin est la version corrigée tel que demandé à la question 1).\n",
    "Pour rouler le notebook sans problème, il est préférable de lire (à la cellule suivante) le fichier RNA.csv d'origine."
   ]
  },
  {
   "cell_type": "code",
   "execution_count": 2,
   "metadata": {},
   "outputs": [
    {
     "data": {
      "text/plain": [
       "(395, 2)"
      ]
     },
     "execution_count": 2,
     "metadata": {},
     "output_type": "execute_result"
    }
   ],
   "source": [
    "TP4_data_file = \"RNA_original.csv\"\n",
    "TP4_data = pd.read_csv(TP4_data_file,index_col=0)\n",
    "TP4_data.shape"
   ]
  },
  {
   "cell_type": "code",
   "execution_count": 3,
   "metadata": {
    "scrolled": false
   },
   "outputs": [
    {
     "data": {
      "text/html": [
       "<div>\n",
       "<style scoped>\n",
       "    .dataframe tbody tr th:only-of-type {\n",
       "        vertical-align: middle;\n",
       "    }\n",
       "\n",
       "    .dataframe tbody tr th {\n",
       "        vertical-align: top;\n",
       "    }\n",
       "\n",
       "    .dataframe thead th {\n",
       "        text-align: right;\n",
       "    }\n",
       "</style>\n",
       "<table border=\"1\" class=\"dataframe\">\n",
       "  <thead>\n",
       "    <tr style=\"text-align: right;\">\n",
       "      <th></th>\n",
       "      <th>sequence</th>\n",
       "      <th>classe</th>\n",
       "    </tr>\n",
       "    <tr>\n",
       "      <th>id</th>\n",
       "      <th></th>\n",
       "      <th></th>\n",
       "    </tr>\n",
       "  </thead>\n",
       "  <tbody>\n",
       "    <tr>\n",
       "      <th>AF093014.1/662-809</th>\n",
       "      <td>CACUUUAAGUAAUGGAUGUCUUGGUUCUCAUAACGAUGAAGGACGC...</td>\n",
       "      <td>RF00002</td>\n",
       "    </tr>\n",
       "    <tr>\n",
       "      <th>M14649.1/2015-2169</th>\n",
       "      <td>AACUUUCAGCGACGGAUGUCUCGGCUCGAACAACGAUGAAGGGCGC...</td>\n",
       "      <td>RF00002</td>\n",
       "    </tr>\n",
       "    <tr>\n",
       "      <th>X53361.2/1206-1368</th>\n",
       "      <td>ACCUGUUGUGGUGGAUGUCUUGGCCCAGGUUCUGAGGAAGGACACA...</td>\n",
       "      <td>RF00002</td>\n",
       "    </tr>\n",
       "    <tr>\n",
       "      <th>M86760.1/218-371</th>\n",
       "      <td>AACUUUCAGCAAUGGAUCUCUUGGUUCCCGCGUCGAUGAAGAACGU...</td>\n",
       "      <td>RF00002</td>\n",
       "    </tr>\n",
       "    <tr>\n",
       "      <th>X00601.1/3997-4154</th>\n",
       "      <td>AAGCAUAAACGGUGAAUACCUCGACUCCUAAAUCGAUGAAGACCGU...</td>\n",
       "      <td>RF00002</td>\n",
       "    </tr>\n",
       "    <tr>\n",
       "      <th>U48228.1/7-166</th>\n",
       "      <td>CAAUCUUAACGAUGGAUGUCUUGGUUCCUAUAGCGAUGAAGGCCGC...</td>\n",
       "      <td>RF00002</td>\n",
       "    </tr>\n",
       "    <tr>\n",
       "      <th>U58510.1/2022-2198</th>\n",
       "      <td>AACCCUAGUGAUGGAUGUCUAGGCUCCCGUAUCGAUGAAGAACGUA...</td>\n",
       "      <td>RF00002</td>\n",
       "    </tr>\n",
       "    <tr>\n",
       "      <th>AL049755.2/30863-31016</th>\n",
       "      <td>AACUUUCAGCAACGGAUCUCUUGGCUCUCGCAUCGAUGAAGAACGC...</td>\n",
       "      <td>RF00002</td>\n",
       "    </tr>\n",
       "    <tr>\n",
       "      <th>U13369.1/6624-6776</th>\n",
       "      <td>GACUCUUAGCGGUGGAUCACUCGGCUCGUGCGUCGAUGAAGAACGC...</td>\n",
       "      <td>RF00002</td>\n",
       "    </tr>\n",
       "    <tr>\n",
       "      <th>V01159.1/185-331</th>\n",
       "      <td>ACCGUUGGGCGAUGGAUUGCUUGGUGCCUGCUUCGACGAAGAGCGC...</td>\n",
       "      <td>RF00002</td>\n",
       "    </tr>\n",
       "  </tbody>\n",
       "</table>\n",
       "</div>"
      ],
      "text/plain": [
       "                                                                 sequence  \\\n",
       "id                                                                          \n",
       "AF093014.1/662-809      CACUUUAAGUAAUGGAUGUCUUGGUUCUCAUAACGAUGAAGGACGC...   \n",
       "M14649.1/2015-2169      AACUUUCAGCGACGGAUGUCUCGGCUCGAACAACGAUGAAGGGCGC...   \n",
       "X53361.2/1206-1368      ACCUGUUGUGGUGGAUGUCUUGGCCCAGGUUCUGAGGAAGGACACA...   \n",
       "M86760.1/218-371        AACUUUCAGCAAUGGAUCUCUUGGUUCCCGCGUCGAUGAAGAACGU...   \n",
       "X00601.1/3997-4154      AAGCAUAAACGGUGAAUACCUCGACUCCUAAAUCGAUGAAGACCGU...   \n",
       "U48228.1/7-166          CAAUCUUAACGAUGGAUGUCUUGGUUCCUAUAGCGAUGAAGGCCGC...   \n",
       "U58510.1/2022-2198      AACCCUAGUGAUGGAUGUCUAGGCUCCCGUAUCGAUGAAGAACGUA...   \n",
       "AL049755.2/30863-31016  AACUUUCAGCAACGGAUCUCUUGGCUCUCGCAUCGAUGAAGAACGC...   \n",
       "U13369.1/6624-6776      GACUCUUAGCGGUGGAUCACUCGGCUCGUGCGUCGAUGAAGAACGC...   \n",
       "V01159.1/185-331        ACCGUUGGGCGAUGGAUUGCUUGGUGCCUGCUUCGACGAAGAGCGC...   \n",
       "\n",
       "                         classe  \n",
       "id                               \n",
       "AF093014.1/662-809      RF00002  \n",
       "M14649.1/2015-2169      RF00002  \n",
       "X53361.2/1206-1368      RF00002  \n",
       "M86760.1/218-371        RF00002  \n",
       "X00601.1/3997-4154      RF00002  \n",
       "U48228.1/7-166          RF00002  \n",
       "U58510.1/2022-2198      RF00002  \n",
       "AL049755.2/30863-31016  RF00002  \n",
       "U13369.1/6624-6776      RF00002  \n",
       "V01159.1/185-331        RF00002  "
      ]
     },
     "execution_count": 3,
     "metadata": {},
     "output_type": "execute_result"
    }
   ],
   "source": [
    "TP4_data[0:10]"
   ]
  },
  {
   "cell_type": "markdown",
   "metadata": {},
   "source": [
    "_______________________"
   ]
  },
  {
   "cell_type": "markdown",
   "metadata": {
    "pycharm": {
     "name": "#%% md\n"
    }
   },
   "source": [
    "# Q1\n",
    "## a)\n",
    "Un examen des données initiales revèle que les entrées dont la classes est absente contiennent en fait la classe dans la\n",
    "colonne \"sequence\", concaténée à la valeur de séquence génétique mais séparée par une virgule. Puisque les champs du\n",
    "fichier sont contenus entre des guillements doubles, mais que pour ces entrées un guillemet ouvrant au début de la séquence génétique ne trouve pas son homologue fermant (il devrait être à la fin de la séquence) ce qui fait en sorte que la virgule est vue comme un simple caractère de ponctuation, au lieu de servir de séparateur pour le format CSV.\n",
    "\n",
    "Pour remédier à ce problème, nous utilisons les fonctions de la classe $\\textit{string}$ et nous sauvegardons le\n",
    "$\\textit{DataFrame}$ corrigé dans un nouveau fichier CSV intitulé \"RNA.csv\"."
   ]
  },
  {
   "cell_type": "code",
   "execution_count": 4,
   "metadata": {
    "pycharm": {
     "name": "#%%\n"
    }
   },
   "outputs": [],
   "source": [
    "# Get indexes for which the entries have no classe\n",
    "na_indexes = TP4_data['classe'].isna()\n",
    "\n",
    "data = TP4_data.copy()\n",
    "\n",
    "# Get missing classes & cleaned sequences\n",
    "split_vals = TP4_data.loc[na_indexes, 'sequence'].str.split(pat='[,\"]', expand=True)\n",
    "data.loc[na_indexes, 'classe'] = split_vals.iloc[:, 1]\n",
    "data.loc[na_indexes, 'sequence'] = split_vals.iloc[:, 0]\n",
    "\n",
    "# Save cleaned data\n",
    "data.to_csv('RNA.csv')\n",
    "\n",
    "# We'll free up unused variables to keep our dev space uncluttered\n",
    "del split_vals\n",
    "del na_indexes"
   ]
  },
  {
   "cell_type": "markdown",
   "metadata": {
    "pycharm": {
     "name": "#%% md\n"
    }
   },
   "source": [
    "## b)\n",
    "\n",
    "Il y a 12 classes dont la répartition est donnée dans la cellule de code suivante:"
   ]
  },
  {
   "cell_type": "code",
   "execution_count": 5,
   "metadata": {
    "pycharm": {
     "name": "#%%\n"
    }
   },
   "outputs": [
    {
     "name": "stdout",
     "output_type": "stream",
     "text": [
      "Il y a 12 classes\n",
      "La classe RF00008 contient 54 entrées\n",
      "La classe RF00004 contient 51 entrées\n",
      "La classe RF00017 contient 49 entrées\n",
      "La classe RF00002 contient 46 entrées\n",
      "La classe RF00003 contient 42 entrées\n",
      "La classe RF00023 contient 36 entrées\n",
      "La classe RF00015 contient 25 entrées\n",
      "La classe RF00024 contient 24 entrées\n",
      "La classe RF00011 contient 19 entrées\n",
      "La classe RF00012 contient 17 entrées\n",
      "La classe RF00019 contient 16 entrées\n",
      "La classe RF00025 contient 16 entrées\n"
     ]
    }
   ],
   "source": [
    "# Ceckout unique classes values and instances number for each classe\n",
    "print(f'Il y a {data.classe.unique().shape[0]} classes')\n",
    "for ix, cls in enumerate(data.classe.value_counts().index):\n",
    "    print(f'La classe {cls} contient {data.classe.value_counts()[ix]} entrées')"
   ]
  },
  {
   "cell_type": "markdown",
   "metadata": {
    "pycharm": {
     "name": "#%% md\n"
    }
   },
   "source": [
    "## c)\n",
    "\n",
    "Ici nous balançons le nombre de données en se défaussant des instances excédant le nombre minimal"
   ]
  },
  {
   "cell_type": "code",
   "execution_count": 6,
   "metadata": {
    "pycharm": {
     "name": "#%%\n"
    }
   },
   "outputs": [
    {
     "name": "stdout",
     "output_type": "stream",
     "text": [
      "Le nombre minimum d'instance d'une classe est 16 pour la classe:\n",
      "['RF00019' 'RF00025']\n",
      "Après traitement, les classes contiennent maintenant 16 instance chacune:\n",
      "La classe RF00011 contient 16 entrées\n",
      "La classe RF00003 contient 16 entrées\n",
      "La classe RF00017 contient 16 entrées\n",
      "La classe RF00019 contient 16 entrées\n",
      "La classe RF00012 contient 16 entrées\n",
      "La classe RF00023 contient 16 entrées\n",
      "La classe RF00008 contient 16 entrées\n",
      "La classe RF00025 contient 16 entrées\n",
      "La classe RF00024 contient 16 entrées\n",
      "La classe RF00002 contient 16 entrées\n",
      "La classe RF00004 contient 16 entrées\n",
      "La classe RF00015 contient 16 entrées\n"
     ]
    }
   ],
   "source": [
    "# Fint out the minimum instances number\n",
    "classes_rep = data.classe.value_counts()\n",
    "print(f'Le nombre minimum d\\'instance d\\'une classe est {classes_rep.min()} pour la classe:\\n'\n",
    "      f'{classes_rep[classes_rep == classes_rep.min()].index.values}')\n",
    "\n",
    "cut_off = classes_rep.min()\n",
    "\n",
    "# Trim off exceding instances\n",
    "for cls in classes_rep.index:\n",
    "    indexes_to_drop = data[data['classe'] == cls].index\n",
    "    if indexes_to_drop.shape[0] > cut_off:\n",
    "        data.drop(index=indexes_to_drop[16:], axis=0, inplace=True)\n",
    "\n",
    "print(f'Après traitement, les classes contiennent maintenant {cut_off} instance chacune:')\n",
    "for ix, cls in enumerate(data.classe.value_counts().index):\n",
    "    print(f'La classe {cls} contient {data.classe.value_counts()[ix]} entrées')\n",
    "\n",
    "del classes_rep\n",
    "del cut_off"
   ]
  },
  {
   "cell_type": "markdown",
   "metadata": {},
   "source": [
    "______________"
   ]
  },
  {
   "cell_type": "markdown",
   "metadata": {
    "pycharm": {
     "name": "#%% md\n"
    }
   },
   "source": [
    "# Q2\n",
    "## a)\n",
    "Ici nous ajoutons une colonne à notre $\\textit{dataframe}$ pour le nouvel attribut \"longueur\". Nous allons également encoder\n",
    "les classes en format numérique pour pouvoir calculer aisément la justesse des prédictions faites par notre modèle de\n",
    "$\\textit{K-Nearest-Neighbors}$."
   ]
  },
  {
   "cell_type": "code",
   "execution_count": 7,
   "metadata": {},
   "outputs": [
    {
     "data": {
      "text/html": [
       "<div>\n",
       "<style scoped>\n",
       "    .dataframe tbody tr th:only-of-type {\n",
       "        vertical-align: middle;\n",
       "    }\n",
       "\n",
       "    .dataframe tbody tr th {\n",
       "        vertical-align: top;\n",
       "    }\n",
       "\n",
       "    .dataframe thead th {\n",
       "        text-align: right;\n",
       "    }\n",
       "</style>\n",
       "<table border=\"1\" class=\"dataframe\">\n",
       "  <thead>\n",
       "    <tr style=\"text-align: right;\">\n",
       "      <th></th>\n",
       "      <th>sequence</th>\n",
       "      <th>classe</th>\n",
       "    </tr>\n",
       "    <tr>\n",
       "      <th>id</th>\n",
       "      <th></th>\n",
       "      <th></th>\n",
       "    </tr>\n",
       "  </thead>\n",
       "  <tbody>\n",
       "    <tr>\n",
       "      <th>AF093014.1/662-809</th>\n",
       "      <td>CACUUUAAGUAAUGGAUGUCUUGGUUCUCAUAACGAUGAAGGACGC...</td>\n",
       "      <td>RF00002</td>\n",
       "    </tr>\n",
       "    <tr>\n",
       "      <th>M14649.1/2015-2169</th>\n",
       "      <td>AACUUUCAGCGACGGAUGUCUCGGCUCGAACAACGAUGAAGGGCGC...</td>\n",
       "      <td>RF00002</td>\n",
       "    </tr>\n",
       "    <tr>\n",
       "      <th>X53361.2/1206-1368</th>\n",
       "      <td>ACCUGUUGUGGUGGAUGUCUUGGCCCAGGUUCUGAGGAAGGACACA...</td>\n",
       "      <td>RF00002</td>\n",
       "    </tr>\n",
       "    <tr>\n",
       "      <th>M86760.1/218-371</th>\n",
       "      <td>AACUUUCAGCAAUGGAUCUCUUGGUUCCCGCGUCGAUGAAGAACGU...</td>\n",
       "      <td>RF00002</td>\n",
       "    </tr>\n",
       "    <tr>\n",
       "      <th>X00601.1/3997-4154</th>\n",
       "      <td>AAGCAUAAACGGUGAAUACCUCGACUCCUAAAUCGAUGAAGACCGU...</td>\n",
       "      <td>RF00002</td>\n",
       "    </tr>\n",
       "    <tr>\n",
       "      <th>...</th>\n",
       "      <td>...</td>\n",
       "      <td>...</td>\n",
       "    </tr>\n",
       "    <tr>\n",
       "      <th>'U10566.1/72-260\"</th>\n",
       "      <td>AGUUUCUCGAUAAUUGAUCUGUAGAAUCUGUCAAGCAAAACCCCAA...</td>\n",
       "      <td>RF00025</td>\n",
       "    </tr>\n",
       "    <tr>\n",
       "      <th>'U10567.1/1-190\"</th>\n",
       "      <td>AGCUGGUGGAAGUGCGUCAGUCAUAGCACUGUCAACAAAACCCCAA...</td>\n",
       "      <td>RF00025</td>\n",
       "    </tr>\n",
       "    <tr>\n",
       "      <th>'U22351.1/82-237\"</th>\n",
       "      <td>AUACCCGCAUUUUCAUUCAGAUCUUUAAUGGAGCUGUCAUUCAACC...</td>\n",
       "      <td>RF00025</td>\n",
       "    </tr>\n",
       "    <tr>\n",
       "      <th>'U22350.1/54-211\"</th>\n",
       "      <td>AUACCCGCAAAUUCAUUCAGGUCUGUAAUAGAUCUGUCAUUCAACC...</td>\n",
       "      <td>RF00025</td>\n",
       "    </tr>\n",
       "    <tr>\n",
       "      <th>AF399707.1/2183-2342</th>\n",
       "      <td>AUACCCGCUUAAUUCAUUCAGAUCUGUAAUAGAACUGUCAUUCAAC...</td>\n",
       "      <td>RF00025</td>\n",
       "    </tr>\n",
       "  </tbody>\n",
       "</table>\n",
       "<p>192 rows × 2 columns</p>\n",
       "</div>"
      ],
      "text/plain": [
       "                                                               sequence  \\\n",
       "id                                                                        \n",
       "AF093014.1/662-809    CACUUUAAGUAAUGGAUGUCUUGGUUCUCAUAACGAUGAAGGACGC...   \n",
       "M14649.1/2015-2169    AACUUUCAGCGACGGAUGUCUCGGCUCGAACAACGAUGAAGGGCGC...   \n",
       "X53361.2/1206-1368    ACCUGUUGUGGUGGAUGUCUUGGCCCAGGUUCUGAGGAAGGACACA...   \n",
       "M86760.1/218-371      AACUUUCAGCAAUGGAUCUCUUGGUUCCCGCGUCGAUGAAGAACGU...   \n",
       "X00601.1/3997-4154    AAGCAUAAACGGUGAAUACCUCGACUCCUAAAUCGAUGAAGACCGU...   \n",
       "...                                                                 ...   \n",
       "'U10566.1/72-260\"     AGUUUCUCGAUAAUUGAUCUGUAGAAUCUGUCAAGCAAAACCCCAA...   \n",
       "'U10567.1/1-190\"      AGCUGGUGGAAGUGCGUCAGUCAUAGCACUGUCAACAAAACCCCAA...   \n",
       "'U22351.1/82-237\"     AUACCCGCAUUUUCAUUCAGAUCUUUAAUGGAGCUGUCAUUCAACC...   \n",
       "'U22350.1/54-211\"     AUACCCGCAAAUUCAUUCAGGUCUGUAAUAGAUCUGUCAUUCAACC...   \n",
       "AF399707.1/2183-2342  AUACCCGCUUAAUUCAUUCAGAUCUGUAAUAGAACUGUCAUUCAAC...   \n",
       "\n",
       "                       classe  \n",
       "id                             \n",
       "AF093014.1/662-809    RF00002  \n",
       "M14649.1/2015-2169    RF00002  \n",
       "X53361.2/1206-1368    RF00002  \n",
       "M86760.1/218-371      RF00002  \n",
       "X00601.1/3997-4154    RF00002  \n",
       "...                       ...  \n",
       "'U10566.1/72-260\"     RF00025  \n",
       "'U10567.1/1-190\"      RF00025  \n",
       "'U22351.1/82-237\"     RF00025  \n",
       "'U22350.1/54-211\"     RF00025  \n",
       "AF399707.1/2183-2342  RF00025  \n",
       "\n",
       "[192 rows x 2 columns]"
      ]
     },
     "execution_count": 7,
     "metadata": {},
     "output_type": "execute_result"
    }
   ],
   "source": [
    "data"
   ]
  },
  {
   "cell_type": "code",
   "execution_count": 8,
   "metadata": {
    "pycharm": {
     "name": "#%%\n"
    }
   },
   "outputs": [
    {
     "name": "stdout",
     "output_type": "stream",
     "text": [
      "Le score de prédiction est: 0.7435897435897436\n",
      "8     4\n",
      "10    3\n",
      "7     3\n",
      "5     3\n",
      "4     3\n",
      "3     3\n",
      "1     3\n",
      "6     2\n",
      "2     2\n",
      "11    1\n",
      "9     1\n",
      "0     1\n",
      "dtype: int64\n",
      "Selon ce qu'on constate, les classe les mieux prédites avec le modèle KNN basé sur la longueur de la séquence sont ['RF00019' 'RF00024' 'RF00017' 'RF00012' 'RF00011']\n"
     ]
    }
   ],
   "source": [
    "# add longueur column\n",
    "data['longueur'] = data['sequence'].str.len().values\n",
    "\n",
    "# Encode classes labels to numerical values\n",
    "lencoder = LabelEncoder()\n",
    "data['encoded_classe'] = lencoder.fit_transform(data['classe'].values)\n",
    "\n",
    "# Prepare training/test data, train and predict\n",
    "# Bien que la distribution des classes soit uniforme, nous utilserons tout de même\n",
    "# le paramèetre stratify pour assurer une présence équivalente dans les deux ensembles\n",
    "X_train, X_test, y_train, y_test = train_test_split(data['longueur'].values,\n",
    "                                                    data['encoded_classe'].values,\n",
    "                                                    test_size=0.2,\n",
    "                                                    random_state=1,\n",
    "                                                    shuffle=True,\n",
    "                                                    stratify=data['encoded_classe'].values)\n",
    "\n",
    "knn = KNeighborsClassifier()\n",
    "knn.fit(X=X_train.reshape(-1, 1), y=y_train)\n",
    "\n",
    "predictions = knn.predict(X=X_test.reshape(-1, 1))\n",
    "\n",
    "# Get the indexes of the wrong predictions\n",
    "wrong_indexes = predictions-y_test != 0\n",
    "\n",
    "# Print predictions accuracy\n",
    "print(f'Le score de prédiction est: {(y_test.shape[0] - wrong_indexes.sum())/y_test.shape[0]}')\n",
    "\n",
    "# Get correct prediction to determine which classes are most easily predicted based on sequence length\n",
    "right_preds = y_test[~wrong_indexes]\n",
    "\n",
    "# Get the 5 most frequent classes that are rightfully predicted\n",
    "print(pd.Series(right_preds).value_counts())\n",
    "fclasses = lencoder.inverse_transform(pd.Series(right_preds).value_counts()[0:5].index)\n",
    "print(f'Selon ce qu\\'on constate, les classe les mieux prédites avec le modèle KNN basé sur la longueur de la séquence sont {fclasses}')\n",
    "\n",
    "# lets drop the five most easily predicted classes\n",
    "for cls in fclasses:\n",
    "    data.drop(index=data[data['classe'] == cls].index, axis=0, inplace=True)"
   ]
  },
  {
   "cell_type": "markdown",
   "metadata": {
    "pycharm": {
     "name": "#%% md\n"
    }
   },
   "source": [
    "## b) k-mers\n",
    "\n",
    "Dans un premier temps, il nous faut trouver toutes les permutations, incluant les répétitions, des nucléotides de l'ARN:"
   ]
  },
  {
   "cell_type": "code",
   "execution_count": 9,
   "metadata": {
    "pycharm": {
     "name": "#%%\n"
    }
   },
   "outputs": [
    {
     "name": "stdout",
     "output_type": "stream",
     "text": [
      "Samples of 1-mer list\n",
      "A\n",
      "U\n",
      "C\n",
      "G\n",
      "Samples of 2-mer list\n",
      "UA\n",
      "GC\n",
      "AU\n",
      "GG\n",
      "Samples of 3-mer list\n",
      "CGC\n",
      "CUU\n",
      "AUC\n",
      "GCC\n",
      "Samples of 4-mer list\n",
      "GGAA\n",
      "CACA\n",
      "CGGC\n",
      "GGCU\n"
     ]
    }
   ],
   "source": [
    "nucleotides = ['A', 'C', 'G', 'U']\n",
    "max_kmer_length = 4\n",
    "\n",
    "kmer_lists = list()\n",
    "# for each length of kmer...\n",
    "for i in range(0, max_kmer_length):\n",
    "    # Create all permutations of that length, and the list they will be stored in\n",
    "    kmer = product(nucleotides, repeat=i+1)\n",
    "    kmer_lists.append(list())\n",
    "    l = kmer_lists[i]\n",
    "    for k in kmer:\n",
    "        # then store permutated values as string in a list\n",
    "        w = ''\n",
    "        for j in range(0, i+1):\n",
    "            w += k[j]\n",
    "        l.append(w)\n",
    "\n",
    "for ix, l in enumerate(kmer_lists):\n",
    "    print(f'Samples of {ix+1}-mer list')\n",
    "    for p in random.sample(l, max_kmer_length):\n",
    "        print(p)\n"
   ]
  },
  {
   "cell_type": "markdown",
   "metadata": {
    "pycharm": {
     "name": "#%% md\n"
    }
   },
   "source": [
    "Nous allons ensuite créer 4 nouveaux $\\textit{dataframes}$ pour faire le décompte du nombre d'occurence des k-mer dans\n",
    "les séquence de nucléotides, et ultimement pouvoir comparer les 4 présentations."
   ]
  },
  {
   "cell_type": "code",
   "execution_count": 10,
   "metadata": {},
   "outputs": [],
   "source": [
    "def construct_kmer_list(data):\n",
    "    # Lets start by copying our main dataframe in 4 new dataframes, drop the columns we won't need and put them in a list\n",
    "    df_list = list()\n",
    "    for i in range(0, max_kmer_length):\n",
    "        df_list.append(data.copy())\n",
    "        df_list[i].drop(labels=['longueur'], inplace=True, axis=1)\n",
    "        # then lets add the needed columns in each new dataframe\n",
    "        for km in kmer_lists[i]:\n",
    "            df_list[i][km] = pd.Series(range(0, df_list[0].shape[0]))\n",
    "            \n",
    "    # Count the occurence of every k-mer for every sequence\n",
    "    for df, kmlist in zip(df_list, kmer_lists):\n",
    "        for km in kmlist:\n",
    "            count = 0\n",
    "            for ix, row in df.iterrows():\n",
    "                # Here we use re.finditer() fct to get all k-mer occurence in a sequence\n",
    "                count = sum(1 for _ in finditer(km, row['sequence']))\n",
    "                df.loc[ix, km] = count\n",
    "\n",
    "    return df_list\n",
    "    "
   ]
  },
  {
   "cell_type": "code",
   "execution_count": 11,
   "metadata": {},
   "outputs": [],
   "source": [
    "df_list = construct_kmer_list(data)"
   ]
  },
  {
   "cell_type": "code",
   "execution_count": 12,
   "metadata": {
    "pycharm": {
     "name": "#%%\n"
    },
    "scrolled": false
   },
   "outputs": [
    {
     "name": "stdout",
     "output_type": "stream",
     "text": [
      "Lets show some k-mer counting samples...\n",
      "                     classe  encoded_classe     A     C     G     U\n",
      "id                                                                 \n",
      "AF093014.1/662-809  RF00002               0  51.0  26.0  26.0  45.0\n",
      "M14649.1/2015-2169  RF00002               0  42.0  34.0  42.0  37.0\n",
      "X53361.2/1206-1368  RF00002               0  33.0  42.0  52.0  36.0\n",
      "M86760.1/218-371    RF00002               0  39.0  31.0  38.0  46.0\n",
      "X00601.1/3997-4154  RF00002               0  47.0  29.0  40.0  42.0\n",
      "                     classe  encoded_classe    AA    AC    AG    AU    CA  \\\n",
      "id                                                                          \n",
      "AF093014.1/662-809  RF00002               0  14.0   8.0   9.0  18.0  13.0   \n",
      "M14649.1/2015-2169  RF00002               0  13.0   8.0   8.0  12.0   8.0   \n",
      "X53361.2/1206-1368  RF00002               0   6.0   9.0  13.0   4.0  11.0   \n",
      "M86760.1/218-371    RF00002               0  11.0   4.0   9.0  13.0  10.0   \n",
      "X00601.1/3997-4154  RF00002               0  10.0  11.0   8.0  14.0   7.0   \n",
      "\n",
      "                     CC    CG    CU    GA    GC    GG    GU    UA    UC    UG  \\\n",
      "id                                                                              \n",
      "AF093014.1/662-809  0.0   4.0   9.0   8.0   7.0   3.0   8.0  14.0  10.0  10.0   \n",
      "M14649.1/2015-2169  4.0  11.0  10.0  14.0  12.0   6.0   7.0   5.0   9.0  14.0   \n",
      "X53361.2/1206-1368  9.0   8.0  10.0  12.0  13.0  12.0  13.0   2.0   7.0  18.0   \n",
      "M86760.1/218-371    3.0   9.0   8.0  12.0  11.0   4.0  11.0   4.0  12.0  16.0   \n",
      "X00601.1/3997-4154  5.0   8.0   9.0  15.0   6.0   7.0   9.0  10.0   7.0  15.0   \n",
      "\n",
      "                      UU  \n",
      "id                        \n",
      "AF093014.1/662-809   7.0  \n",
      "M14649.1/2015-2169   6.0  \n",
      "X53361.2/1206-1368   9.0  \n",
      "M86760.1/218-371    10.0  \n",
      "X00601.1/3997-4154   9.0  \n",
      "                     classe  encoded_classe  AAA  AAC  AAG  AAU  ACA  ACC  \\\n",
      "id                                                                          \n",
      "AF093014.1/662-809  RF00002               0  2.0  4.0  4.0  6.0  2.0  0.0   \n",
      "M14649.1/2015-2169  RF00002               0  1.0  5.0  3.0  5.0  1.0  1.0   \n",
      "X53361.2/1206-1368  RF00002               0  1.0  3.0  3.0  0.0  3.0  1.0   \n",
      "M86760.1/218-371    RF00002               0  1.0  3.0  2.0  5.0  0.0  0.0   \n",
      "X00601.1/3997-4154  RF00002               0  4.0  3.0  2.0  5.0  2.0  2.0   \n",
      "\n",
      "                    ACG  ACU  ...  UCG  UCU  UGA  UGC  UGG  UGU  UUA  UUC  \\\n",
      "id                            ...                                           \n",
      "AF093014.1/662-809  3.0  3.0  ...  0.0  5.0  3.0  2.0  2.0  3.0  4.0  2.0   \n",
      "M14649.1/2015-2169  3.0  3.0  ...  3.0  2.0  6.0  4.0  0.0  4.0  0.0  4.0   \n",
      "X53361.2/1206-1368  3.0  1.0  ...  2.0  4.0  3.0  3.0  5.0  6.0  0.0  4.0   \n",
      "M86760.1/218-371    2.0  2.0  ...  2.0  2.0  5.0  4.0  4.0  3.0  0.0  4.0   \n",
      "X00601.1/3997-4154  2.0  5.0  ...  4.0  0.0  8.0  2.0  3.0  2.0  2.0  2.0   \n",
      "\n",
      "                    UUG  UUU  \n",
      "id                            \n",
      "AF093014.1/662-809  1.0  3.0  \n",
      "M14649.1/2015-2169  2.0  2.0  \n",
      "X53361.2/1206-1368  5.0  0.0  \n",
      "M86760.1/218-371    5.0  3.0  \n",
      "X00601.1/3997-4154  5.0  1.0  \n",
      "\n",
      "[5 rows x 66 columns]\n",
      "                     classe  encoded_classe  AAAA  AAAC  AAAG  AAAU  AACA  \\\n",
      "id                                                                          \n",
      "AF093014.1/662-809  RF00002               0   0.0   0.0   1.0   1.0   1.0   \n",
      "M14649.1/2015-2169  RF00002               0   0.0   0.0   0.0   1.0   1.0   \n",
      "X53361.2/1206-1368  RF00002               0   0.0   0.0   1.0   0.0   1.0   \n",
      "M86760.1/218-371    RF00002               0   1.0   0.0   0.0   1.0   0.0   \n",
      "X00601.1/3997-4154  RF00002               0   0.0   2.0   0.0   2.0   0.0   \n",
      "\n",
      "                    AACC  AACG  AACU  ...  UUCG  UUCU  UUGA  UUGC  UUGG  UUGU  \\\n",
      "id                                    ...                                       \n",
      "AF093014.1/662-809   0.0   2.0   1.0  ...   0.0   2.0   0.0   0.0   1.0   0.0   \n",
      "M14649.1/2015-2169   1.0   2.0   1.0  ...   1.0   0.0   1.0   1.0   0.0   0.0   \n",
      "X53361.2/1206-1368   0.0   1.0   1.0  ...   2.0   1.0   0.0   1.0   1.0   2.0   \n",
      "M86760.1/218-371     0.0   2.0   1.0  ...   0.0   1.0   2.0   2.0   1.0   0.0   \n",
      "X00601.1/3997-4154   0.0   2.0   1.0  ...   1.0   0.0   3.0   1.0   1.0   0.0   \n",
      "\n",
      "                    UUUA  UUUC  UUUG  UUUU  \n",
      "id                                          \n",
      "AF093014.1/662-809   3.0   0.0   0.0   0.0  \n",
      "M14649.1/2015-2169   0.0   2.0   0.0   0.0  \n",
      "X53361.2/1206-1368   0.0   0.0   0.0   0.0  \n",
      "M86760.1/218-371     0.0   1.0   2.0   1.0  \n",
      "X00601.1/3997-4154   0.0   1.0   0.0   0.0  \n",
      "\n",
      "[5 rows x 258 columns]\n"
     ]
    }
   ],
   "source": [
    "print('Lets show some k-mer counting samples...')\n",
    "for df in df_list:\n",
    "    print(df.loc[:, df.columns != 'sequence'].head())"
   ]
  },
  {
   "cell_type": "markdown",
   "metadata": {
    "pycharm": {
     "name": "#%% md\n"
    }
   },
   "source": [
    "Comme on devait s'y attendre, on voit que les fréquences des k-mer est inversement prortionnelle à leurs longueurs.\n",
    "\n",
    "Une fois le décompte fait, il ne reste qu'à créer les modèles de classification que l'on souhaite tester. Le compte\n",
    "de kmers nous donnes des vecteurs $v$ tels que $v \\in \\mathbb{N_0^{n}},\\, n=4,16,64,256$. Dans un premier temps, nous\n",
    "évaluerons la qualité du clustering à l'aide des méthodes quantitatives, puis nous vérifirons la distribution des valeurs\n",
    "pour chaque dimension et pour chaque table de k-mer pour voir si les méthodes faisant l'hypothèse gaussienne devraient être\n",
    "utilisées."
   ]
  },
  {
   "cell_type": "markdown",
   "metadata": {},
   "source": [
    "#### Visualisation T-SNE"
   ]
  },
  {
   "cell_type": "code",
   "execution_count": 29,
   "metadata": {
    "scrolled": false
   },
   "outputs": [
    {
     "data": {
      "text/plain": [
       "Text(0.5, 1.0, 'T-SNE (4-mer)')"
      ]
     },
     "execution_count": 29,
     "metadata": {},
     "output_type": "execute_result"
    },
    {
     "data": {
      "image/png": "[encoded data removed]",
      "text/plain": [
       "<Figure size 720x1080 with 4 Axes>"
      ]
     },
     "metadata": {},
     "output_type": "display_data"
    }
   ],
   "source": [
    "from sklearn.manifold import TSNE\n",
    "\n",
    "tsne = TSNE()\n",
    "X_tsne_pca_1mer = tsne.fit_transform(df_list[0].loc[:, kmer_lists[0]].values)\n",
    "X_tsne_pca_2mer = tsne.fit_transform(df_list[1].loc[:, kmer_lists[1]].values)\n",
    "X_tsne_pca_3mer = tsne.fit_transform(df_list[2].loc[:, kmer_lists[2]].values)\n",
    "X_tsne_pca_4mer = tsne.fit_transform(df_list[3].loc[:, kmer_lists[3]].values)\n",
    "\n",
    "fig, axes = plt.subplots(4, 1, figsize=(10,15))\n",
    "sns.scatterplot(x=X_tsne_pca_1mer[:,0], y=X_tsne_pca_1mer[:,1], hue=qq['encoded_classe'], palette='tab10', ax=axes[0], legend=False)\n",
    "sns.scatterplot(x=X_tsne_pca_2mer[:,0], y=X_tsne_pca_2mer[:,1], hue=qq['encoded_classe'], palette='tab10', ax=axes[1], legend=False)\n",
    "sns.scatterplot(x=X_tsne_pca_3mer[:,0], y=X_tsne_pca_3mer[:,1], hue=qq['encoded_classe'], palette='tab10', ax=axes[2], legend=False)\n",
    "sns.scatterplot(x=X_tsne_pca_4mer[:,0], y=X_tsne_pca_4mer[:,1], hue=qq['encoded_classe'], palette='tab10', ax=axes[3], legend=False)\n",
    "axes[0].set_title('T-SNE (1-mer)')\n",
    "axes[1].set_title('T-SNE (2-mer)')\n",
    "axes[2].set_title('T-SNE (3-mer)')\n",
    "axes[3].set_title('T-SNE (4-mer)')\n"
   ]
  },
  {
   "cell_type": "markdown",
   "metadata": {},
   "source": [
    "### Commentaires\n",
    "\n",
    "Tel que nous pouvons constater par les visualisations T-SNE, il y a certe distinction des classes, mais leurs regroupements n'est pas nécessairement franc et linéaire. De ce fait, des modèles permettant de traiter des relations non linéaires sont à favoriser.\n",
    "Afin de confirmer nos hypothèses nous avons décidé d'utiliser ces modèles:\n",
    "\n",
    "* SVC()\n",
    "* KNeighbors()\n",
    "* DecisionTree()\n",
    "* RandomForest() de base\n",
    "* RandomForest() criterion='gini' max_depth=10\n",
    "* MLPClassifier()\n",
    "\n",
    "Nous nous attendons à de bon résultat provenant des modèles SVC(), MLPClassifier() ainsi que les RandomForest() de par leur méthode d'ensemble.\n",
    "\n"
   ]
  },
  {
   "cell_type": "code",
   "execution_count": 34,
   "metadata": {
    "pycharm": {
     "name": "#%%\n"
    },
    "scrolled": false
   },
   "outputs": [
    {
     "name": "stdout",
     "output_type": "stream",
     "text": [
      "\n",
      "Les résultats de chaque modèle pour 1-mer sont:\n",
      "SVC 0.7600790513833993\n",
      "KNeighbors 0.8407114624505929\n",
      "DecisionTree 0.7770750988142293\n",
      "RandomForest 0.8407114624505929\n",
      "RandomForest2 0.8494071146245059\n",
      "MLPClassifier 0.6434782608695653\n",
      "\n",
      "Les résultats de chaque modèle pour 2-mer sont:\n",
      "SVC 0.8932806324110671\n",
      "KNeighbors 0.8845849802371542\n",
      "DecisionTree 0.8130434782608695\n",
      "RandomForest 0.8944664031620553\n",
      "RandomForest2 0.8857707509881422\n",
      "MLPClassifier 0.7687747035573123\n",
      "\n",
      "Les résultats de chaque modèle pour 3-mer sont:\n",
      "SVC 0.9474308300395258\n",
      "KNeighbors 0.9296442687747035\n",
      "DecisionTree 0.6782608695652173\n",
      "RandomForest 0.9470355731225297\n",
      "RandomForest2 0.866798418972332\n",
      "MLPClassifier 0.9019762845849802\n",
      "\n",
      "Les résultats de chaque modèle pour 4-mer sont:\n",
      "SVC 0.9735177865612649\n",
      "KNeighbors 0.7869565217391304\n",
      "DecisionTree 0.7600790513833993\n",
      "RandomForest 0.9648221343873518\n",
      "RandomForest2 0.9027667984189722\n",
      "MLPClassifier 0.9284584980237154\n"
     ]
    }
   ],
   "source": [
    "model_dict = {'1-mer': [], '2-mer': [], '3-mer': [], '4-mer': []}\n",
    "\n",
    "for df, km in zip(df_list, kmer_lists):\n",
    "\n",
    "    # Create our models\n",
    "    models = list()\n",
    "    models.append((\"SVC\",SVC()))\n",
    "    models.append((\"KNeighbors\", KNeighborsClassifier()))\n",
    "    models.append((\"DecisionTree\", DecisionTreeClassifier()))\n",
    "    models.append((\"RandomForest\", RandomForestClassifier()))\n",
    "    rf2 = RandomForestClassifier(n_estimators=100, criterion='gini', max_depth=10, random_state=0, max_features=None)\n",
    "    models.append((\"RandomForest2\", rf2))\n",
    "    models.append((\"MLPClassifier\", MLPClassifier(solver='lbfgs', random_state=0, max_iter=500)))\n",
    "\n",
    "    results = list()\n",
    "    names = list()\n",
    "    \n",
    "\n",
    "    # Train and test them using cross-validation\n",
    "    for name, model in models:\n",
    "        result = cross_val_score(model, df.loc[:, km], df['encoded_classe'],  cv=5)\n",
    "        names.append(name)\n",
    "        results.append(result)\n",
    "\n",
    "    print(f'\\nLes résultats de chaque modèle pour {int(np.log2(len(km))/np.log2(4))}-mer sont:')\n",
    "    model_dict[f'{int(np.log2(len(km))/np.log2(4))}-mer'] = models\n",
    "    for i in range(len(names)):\n",
    "        print(f'{names[i]} {results[i].mean()}')"
   ]
  },
  {
   "cell_type": "markdown",
   "metadata": {},
   "source": [
    "### Commentaires\n",
    "\n",
    "Tel qu'expliqué plus haut, nous avons effectivement des métriques élevées pour les modèles SVC(), MLPClassifier() ainsi que les RandomForest().\n",
    "\n",
    "Après analyse des résultats, nous constatons que la représentation 4-mer permet une meilleure prédiction à l'aide des modèles convenable aux relations non-linéaires.\n",
    "Finalement, le modèle SVC() est le plus performant avec une prédiction de 97.35%. \n",
    "\n",
    "\n"
   ]
  },
  {
   "cell_type": "markdown",
   "metadata": {},
   "source": [
    "______________"
   ]
  },
  {
   "cell_type": "markdown",
   "metadata": {},
   "source": [
    "# Q3\n",
    "## a)\n",
    "Nous allons générer des données bruitées afin de tester la robustesse des prédictions au bruit. Pour ce faire, nous constuirons un jeu de données mélangées de même dimension que les données originales. De plus, pour chaque donné x, nous utiliserons les mêmes ARN, mais dans un ordre différent. La catégorie \"BRUIT\" leur sera attribuée."
   ]
  },
  {
   "cell_type": "code",
   "execution_count": 30,
   "metadata": {},
   "outputs": [],
   "source": [
    "data_noise = data.copy()\n",
    "\n",
    "data_noise['sequence'] = data_noise['sequence'].apply(lambda x: ''.join(random.sample(x, len(x))))\n",
    "data_noise['classe'] = 'BRUIT'\n",
    "data_noise['encoded_classe'] = data['encoded_classe'].max() + 1\n",
    "\n",
    "df_noise_list = construct_kmer_list(data_noise)"
   ]
  },
  {
   "cell_type": "markdown",
   "metadata": {},
   "source": [
    "## b) Ajout de bruits\n",
    "\n",
    "Utilisant le modèle choisi à la précédente question, le score de classification sera recalculé mais en incluant un pourcentage de bruit.\n",
    "\n",
    "Erratum: le modèle choisi doit être testé avec chacune des représentations 1-mer, 2-mer, 3-mer, 4-mer et l'ajout de bruit."
   ]
  },
  {
   "cell_type": "code",
   "execution_count": 39,
   "metadata": {},
   "outputs": [
    {
     "name": "stdout",
     "output_type": "stream",
     "text": [
      "Représentation 1-mer:\n",
      "\n",
      "5% noise: 0.7105072463768115\n",
      "10% noise: 0.6916666666666667\n",
      "20% noise: 0.6341880341880342\n",
      "40% noise: 0.4616935483870968\n",
      "60% noise: 0.45285714285714285\n",
      "80% noise: 0.45792682926829265\n",
      "100% noise: 0.48666666666666664\n",
      "-------------------------------------\n",
      "Représentation 2-mer:\n",
      "\n",
      "5% noise: 0.855072463768116\n",
      "10% noise: 0.8136666666666666\n",
      "20% noise: 0.7837606837606839\n",
      "40% noise: 0.6346774193548386\n",
      "60% noise: 0.5863492063492063\n",
      "80% noise: 0.5915853658536585\n",
      "100% noise: 0.5668686868686869\n",
      "-------------------------------------\n",
      "Représentation 3-mer:\n",
      "\n",
      "5% noise: 0.9068840579710145\n",
      "10% noise: 0.8623333333333333\n",
      "20% noise: 0.8358974358974359\n",
      "40% noise: 0.827016129032258\n",
      "60% noise: 0.7823809523809524\n",
      "80% noise: 0.8164634146341463\n",
      "100% noise: 0.8347474747474747\n",
      "-------------------------------------\n",
      "Représentation 4-mer:\n",
      "\n",
      "5% noise: 0.9318840579710145\n",
      "10% noise: 0.9106666666666667\n",
      "20% noise: 0.8065527065527066\n",
      "40% noise: 0.8340725806451612\n",
      "60% noise: 0.8382539682539683\n",
      "80% noise: 0.8610975609756097\n",
      "100% noise: 0.8485858585858586\n",
      "-------------------------------------\n"
     ]
    }
   ],
   "source": [
    "percentage = [0.05, 0.10, 0.20, 0.40, 0.60, 0.80, 1]\n",
    "\n",
    "for i in range(4):\n",
    "    df_noise = df_noise_list[i]\n",
    "    df_length = df_noise.shape[0]\n",
    "    \n",
    "    df = df_list[i]\n",
    "    km = kmer_lists[i]\n",
    "    print(f\"Représentation {i+1}-mer:\")\n",
    "    print(\"\")\n",
    "    for perc in percentage:\n",
    "        model_optimal = SVC()  # modèle choisi de la question précédente\n",
    "\n",
    "        idx = np.random.choice(np.arange(df_noise.shape[0]), int(perc * df_length))\n",
    "        df_with_noise = pd.concat([df, df_noise.iloc[idx]])\n",
    "\n",
    "        result = cross_val_score(model_optimal, df_with_noise.loc[:, km], df_with_noise['encoded_classe'],  cv=5)\n",
    "        print(f'{int(perc*100)}% noise: {result.mean()}')\n",
    "\n",
    "    print(\"-------------------------------------\")"
   ]
  },
  {
   "cell_type": "markdown",
   "metadata": {},
   "source": [
    "## c)\n",
    "\n",
    "#### Commentaires\n",
    "\n",
    "Tel que présenté à la question précédente, parmi les 4 représentations, celle associée à 4-mer permet d'avoir le plus haut résultat. Ceci peut notamment être attribué à la réduction de répétition d'information considérant qu'un 4-mer est beaucoup moins fréquent qu'un 1- ou 2-mer. \n",
    "\n",
    "De plus, sans grande surprise, la performance diminue au fur et à mesure que le bruit est ajouté. La meilleure performance est obtenue avec l'ajout de 5% de bruit. Il est intéressant de constater qu'après 40% d'ajout de bruit, le modèle semble se stabiliser et même s'améliorer démontrant qu'il aurait possiblement détecté l'injection de bruit.\n",
    "\n",
    "\n"
   ]
  },
  {
   "cell_type": "code",
   "execution_count": null,
   "metadata": {},
   "outputs": [],
   "source": []
  },
  {
   "cell_type": "code",
   "execution_count": null,
   "metadata": {},
   "outputs": [],
   "source": []
  }
 ],
 "metadata": {
  "kernelspec": {
   "display_name": "Python 3",
   "language": "python",
   "name": "python3"
  },
  "language_info": {
   "codemirror_mode": {
    "name": "ipython",
    "version": 3
   },
   "file_extension": ".py",
   "mimetype": "text/x-python",
   "name": "python",
   "nbconvert_exporter": "python",
   "pygments_lexer": "ipython3",
   "version": "3.6.13"
  }
 },
 "nbformat": 4,
 "nbformat_minor": 4
}
