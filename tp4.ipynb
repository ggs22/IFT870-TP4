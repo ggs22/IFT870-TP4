{
 "cells": [
  {
   "cell_type": "markdown",
   "metadata": {},
   "source": [
    "# TP4_depart\n",
    "## IFT870/BIN710 Hiver 2021\n",
    "\n",
    "### Mathieu Lussier (LUSM1202)\n",
    "### Gabriel Gibeau Sanchez (GIBG2501)"
   ]
  },
  {
   "cell_type": "code",
   "execution_count": 92,
   "metadata": {},
   "outputs": [],
   "source": [
    "import sklearn\n",
    "import numpy as np\n",
    "import scipy as sp\n",
    "import pandas as pd\n",
    "%matplotlib notebook\n",
    "import matplotlib.pyplot as plt\n",
    "import seaborn as sns"
   ]
  },
  {
   "cell_type": "code",
   "execution_count": 93,
   "metadata": {},
   "outputs": [
    {
     "data": {
      "text/plain": "(395, 2)"
     },
     "execution_count": 93,
     "metadata": {},
     "output_type": "execute_result"
    }
   ],
   "source": [
    "TP4_data_file = \"RNA_orignal.csv\"\n",
    "TP4_data = pd.read_csv(TP4_data_file,index_col=0)\n",
    "TP4_data.shape"
   ]
  },
  {
   "cell_type": "code",
   "execution_count": 94,
   "metadata": {
    "scrolled": false
   },
   "outputs": [
    {
     "data": {
      "text/plain": "                                                                 sequence  \\\nid                                                                          \nAF093014.1/662-809      CACUUUAAGUAAUGGAUGUCUUGGUUCUCAUAACGAUGAAGGACGC...   \nM14649.1/2015-2169      AACUUUCAGCGACGGAUGUCUCGGCUCGAACAACGAUGAAGGGCGC...   \nX53361.2/1206-1368      ACCUGUUGUGGUGGAUGUCUUGGCCCAGGUUCUGAGGAAGGACACA...   \nM86760.1/218-371        AACUUUCAGCAAUGGAUCUCUUGGUUCCCGCGUCGAUGAAGAACGU...   \nX00601.1/3997-4154      AAGCAUAAACGGUGAAUACCUCGACUCCUAAAUCGAUGAAGACCGU...   \nU48228.1/7-166          CAAUCUUAACGAUGGAUGUCUUGGUUCCUAUAGCGAUGAAGGCCGC...   \nU58510.1/2022-2198      AACCCUAGUGAUGGAUGUCUAGGCUCCCGUAUCGAUGAAGAACGUA...   \nAL049755.2/30863-31016  AACUUUCAGCAACGGAUCUCUUGGCUCUCGCAUCGAUGAAGAACGC...   \nU13369.1/6624-6776      GACUCUUAGCGGUGGAUCACUCGGCUCGUGCGUCGAUGAAGAACGC...   \nV01159.1/185-331        ACCGUUGGGCGAUGGAUUGCUUGGUGCCUGCUUCGACGAAGAGCGC...   \n\n                         classe  \nid                               \nAF093014.1/662-809      RF00002  \nM14649.1/2015-2169      RF00002  \nX53361.2/1206-1368      RF00002  \nM86760.1/218-371        RF00002  \nX00601.1/3997-4154      RF00002  \nU48228.1/7-166          RF00002  \nU58510.1/2022-2198      RF00002  \nAL049755.2/30863-31016  RF00002  \nU13369.1/6624-6776      RF00002  \nV01159.1/185-331        RF00002  ",
      "text/html": "<div>\n<style scoped>\n    .dataframe tbody tr th:only-of-type {\n        vertical-align: middle;\n    }\n\n    .dataframe tbody tr th {\n        vertical-align: top;\n    }\n\n    .dataframe thead th {\n        text-align: right;\n    }\n</style>\n<table border=\"1\" class=\"dataframe\">\n  <thead>\n    <tr style=\"text-align: right;\">\n      <th></th>\n      <th>sequence</th>\n      <th>classe</th>\n    </tr>\n    <tr>\n      <th>id</th>\n      <th></th>\n      <th></th>\n    </tr>\n  </thead>\n  <tbody>\n    <tr>\n      <th>AF093014.1/662-809</th>\n      <td>CACUUUAAGUAAUGGAUGUCUUGGUUCUCAUAACGAUGAAGGACGC...</td>\n      <td>RF00002</td>\n    </tr>\n    <tr>\n      <th>M14649.1/2015-2169</th>\n      <td>AACUUUCAGCGACGGAUGUCUCGGCUCGAACAACGAUGAAGGGCGC...</td>\n      <td>RF00002</td>\n    </tr>\n    <tr>\n      <th>X53361.2/1206-1368</th>\n      <td>ACCUGUUGUGGUGGAUGUCUUGGCCCAGGUUCUGAGGAAGGACACA...</td>\n      <td>RF00002</td>\n    </tr>\n    <tr>\n      <th>M86760.1/218-371</th>\n      <td>AACUUUCAGCAAUGGAUCUCUUGGUUCCCGCGUCGAUGAAGAACGU...</td>\n      <td>RF00002</td>\n    </tr>\n    <tr>\n      <th>X00601.1/3997-4154</th>\n      <td>AAGCAUAAACGGUGAAUACCUCGACUCCUAAAUCGAUGAAGACCGU...</td>\n      <td>RF00002</td>\n    </tr>\n    <tr>\n      <th>U48228.1/7-166</th>\n      <td>CAAUCUUAACGAUGGAUGUCUUGGUUCCUAUAGCGAUGAAGGCCGC...</td>\n      <td>RF00002</td>\n    </tr>\n    <tr>\n      <th>U58510.1/2022-2198</th>\n      <td>AACCCUAGUGAUGGAUGUCUAGGCUCCCGUAUCGAUGAAGAACGUA...</td>\n      <td>RF00002</td>\n    </tr>\n    <tr>\n      <th>AL049755.2/30863-31016</th>\n      <td>AACUUUCAGCAACGGAUCUCUUGGCUCUCGCAUCGAUGAAGAACGC...</td>\n      <td>RF00002</td>\n    </tr>\n    <tr>\n      <th>U13369.1/6624-6776</th>\n      <td>GACUCUUAGCGGUGGAUCACUCGGCUCGUGCGUCGAUGAAGAACGC...</td>\n      <td>RF00002</td>\n    </tr>\n    <tr>\n      <th>V01159.1/185-331</th>\n      <td>ACCGUUGGGCGAUGGAUUGCUUGGUGCCUGCUUCGACGAAGAGCGC...</td>\n      <td>RF00002</td>\n    </tr>\n  </tbody>\n</table>\n</div>"
     },
     "execution_count": 94,
     "metadata": {},
     "output_type": "execute_result"
    }
   ],
   "source": [
    "TP4_data[0:10]"
   ]
  },
  {
   "cell_type": "markdown",
   "source": [
    "# Q1\n",
    "## a)\n",
    "Un examen des données initiales revèle que les entrées dont la clases est absente contiennent en fait la classe dans la\n",
    "colonne \"sequence\", concaténée à la valeur de séquence génétique mais séparée par une virgule. Ce puisque les champs du\n",
    "fichier sont contenus entre des guillements doubles, mais pour ces entrées un guillemet ouvrant au début de la séquence génétique\n",
    "ne trouve pas son homologue fermant (il devrait être à la fin de la séquence) ce qui fait en sorte que la virgule est vue\n",
    "comme un simple caractère de ponctuation, au lieu de servir de séparateur CSV.\n",
    "\n",
    "Pour remédier à ce problème, nous utilisons les fonctions de la classe $\\textit{string}$ et nous sauvegardons le\n",
    "$\\textit{DataFrame}$ corrigé dans un nouveau fichier CSV intitulé \"RNA.csv\"."
   ],
   "metadata": {
    "collapsed": false,
    "pycharm": {
     "name": "#%% md\n"
    }
   }
  },
  {
   "cell_type": "code",
   "execution_count": 95,
   "outputs": [],
   "source": [
    "# Get indexes for which the entries have no classe\n",
    "na_indexes = TP4_data['classe'].isna()\n",
    "\n",
    "data = TP4_data.copy()\n",
    "\n",
    "# Get missing classes & cleaned sequences\n",
    "split_vals = TP4_data.loc[na_indexes, 'sequence'].str.split(pat='[,\"]', expand=True)\n",
    "data.loc[na_indexes, 'classe'] = split_vals.iloc[:, 1]\n",
    "data.loc[na_indexes, 'sequence'] = split_vals.iloc[:, 0]\n",
    "\n",
    "# Save cleaned data\n",
    "data.to_csv('RNA_clean.csv')\n",
    "\n",
    "# We'll free up unused variables to keep our dev space uncluttered\n",
    "del(split_vals)\n",
    "del(na_indexes)"
   ],
   "metadata": {
    "collapsed": false,
    "pycharm": {
     "name": "#%%\n"
    }
   }
  },
  {
   "cell_type": "markdown",
   "source": [
    "## b)\n",
    "\n",
    "Il y a 12 classes dont la répartition est donnée dans la cellule de code suivante:"
   ],
   "metadata": {
    "collapsed": false,
    "pycharm": {
     "name": "#%% md\n"
    }
   }
  },
  {
   "cell_type": "code",
   "execution_count": 96,
   "outputs": [
    {
     "name": "stdout",
     "output_type": "stream",
     "text": [
      "Il y a 12 classes\n",
      "La classe RF00008 contient 54 entrées\n",
      "La classe RF00004 contient 51 entrées\n",
      "La classe RF00017 contient 49 entrées\n",
      "La classe RF00002 contient 46 entrées\n",
      "La classe RF00003 contient 42 entrées\n",
      "La classe RF00023 contient 36 entrées\n",
      "La classe RF00015 contient 25 entrées\n",
      "La classe RF00024 contient 24 entrées\n",
      "La classe RF00011 contient 19 entrées\n",
      "La classe RF00012 contient 17 entrées\n",
      "La classe RF00019 contient 16 entrées\n",
      "La classe RF00025 contient 16 entrées\n"
     ]
    }
   ],
   "source": [
    "# Ceckout unique classes values and instances number for each classe\n",
    "print(f'Il y a {data.classe.unique().shape[0]} classes')\n",
    "for ix, cls in enumerate(data.classe.value_counts().index):\n",
    "    print(f'La classe {cls} contient {data.classe.value_counts()[ix]} entrées')"
   ],
   "metadata": {
    "collapsed": false,
    "pycharm": {
     "name": "#%%\n"
    }
   }
  },
  {
   "cell_type": "markdown",
   "source": [
    "## c)\n",
    "\n",
    "Ici nous balançons le nombre de données en se défaussant des instances excédant le nombre minimal"
   ],
   "metadata": {
    "collapsed": false,
    "pycharm": {
     "name": "#%% md\n"
    }
   }
  },
  {
   "cell_type": "code",
   "execution_count": 97,
   "outputs": [
    {
     "name": "stdout",
     "output_type": "stream",
     "text": [
      "Le nombre minimum d'instance d'une classe est 16 pour la classe:\n",
      "['RF00019' 'RF00025']\n",
      "Après traitement, les classes contiennent maintenant 16 instance chacune\n",
      "La classe RF00025 contient 16 entrées\n",
      "La classe RF00017 contient 16 entrées\n",
      "La classe RF00023 contient 16 entrées\n",
      "La classe RF00012 contient 16 entrées\n",
      "La classe RF00015 contient 16 entrées\n",
      "La classe RF00019 contient 16 entrées\n",
      "La classe RF00004 contient 16 entrées\n",
      "La classe RF00011 contient 16 entrées\n",
      "La classe RF00024 contient 16 entrées\n",
      "La classe RF00003 contient 16 entrées\n",
      "La classe RF00008 contient 16 entrées\n",
      "La classe RF00002 contient 16 entrées\n"
     ]
    }
   ],
   "source": [
    "# Fint out the minimum instances number\n",
    "classes_rep = data.classe.value_counts()\n",
    "print(f'Le nombre minimum d\\'instance d\\'une classe est {classes_rep.min()} pour la classe:\\n'\n",
    "      f'{classes_rep[classes_rep == classes_rep.min()].index.values}')\n",
    "\n",
    "cut_off = classes_rep.min()\n",
    "\n",
    "# Trim off exceding instances\n",
    "for cls in classes_rep.index:\n",
    "    indexes_to_drop = data[data['classe'] == cls].index\n",
    "    if indexes_to_drop.shape[0] > cut_off:\n",
    "        data.drop(index=indexes_to_drop[16:], axis=0, inplace=True)\n",
    "\n",
    "print(f'Après traitement, les classes contiennent maintenant {cut_off} instance chacune:')\n",
    "for ix, cls in enumerate(data.classe.value_counts().index):\n",
    "    print(f'La classe {cls} contient {data.classe.value_counts()[ix]} entrées')\n",
    "\n",
    "del(classes_rep)\n",
    "del(cut_off)"
   ],
   "metadata": {
    "collapsed": false,
    "pycharm": {
     "name": "#%%\n"
    }
   }
  },
  {
   "cell_type": "markdown",
   "source": [
    "# Q2\n",
    "## a)"
   ],
   "metadata": {
    "collapsed": false,
    "pycharm": {
     "name": "#%% md\n"
    }
   }
  }
 ],
 "metadata": {
  "kernelspec": {
   "name": "pycharm-aff07955",
   "language": "python",
   "display_name": "PyCharm (IFT870-TP1)"
  },
  "language_info": {
   "codemirror_mode": {
    "name": "ipython",
    "version": 3
   },
   "file_extension": ".py",
   "mimetype": "text/x-python",
   "name": "python",
   "nbconvert_exporter": "python",
   "pygments_lexer": "ipython3",
   "version": "3.7.3"
  }
 },
 "nbformat": 4,
 "nbformat_minor": 4
}
