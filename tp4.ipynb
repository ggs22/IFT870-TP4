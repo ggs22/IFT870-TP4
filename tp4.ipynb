{
 "cells": [
  {
   "cell_type": "markdown",
   "metadata": {},
   "source": [
    "# TP4_depart\n",
    "## IFT870/BIN710 Hiver 2021\n",
    "\n",
    "### Mathieu Lussier (LUSM1202)\n",
    "### Gabriel Gibeau Sanchez (GIBG2501)"
   ]
  },
  {
   "cell_type": "code",
   "execution_count": 15,
   "metadata": {},
   "outputs": [],
   "source": [
    "import sklearn\n",
    "import numpy as np\n",
    "import scipy as sp\n",
    "import pandas as pd\n",
    "import random\n",
    "\n",
    "import matplotlib.pyplot as plt\n",
    "%matplotlib inline\n",
    "import seaborn as sns\n",
    "\n",
    "from sklearn.model_selection import train_test_split\n",
    "from sklearn.model_selection import cross_val_score\n",
    "from sklearn.preprocessing import LabelEncoder\n",
    "\n",
    "from sklearn.neighbors import  KNeighborsClassifier\n",
    "from sklearn.linear_model import LogisticRegression\n",
    "from sklearn.svm import SVC, LinearSVC\n",
    "from sklearn.tree import DecisionTreeClassifier\n",
    "from sklearn.ensemble import RandomForestClassifier\n",
    "from sklearn.naive_bayes import GaussianNB\n",
    "from sklearn.neural_network import MLPClassifier\n",
    "\n",
    "\n",
    "from itertools import product\n",
    "from re import finditer\n",
    "\n",
    "# for printing variables in a markdown cell\n",
    "from IPython.display import Markdown as md"
   ]
  },
  {
   "cell_type": "code",
   "execution_count": 16,
   "metadata": {},
   "outputs": [
    {
     "data": {
      "text/plain": "(395, 2)"
     },
     "execution_count": 16,
     "metadata": {},
     "output_type": "execute_result"
    }
   ],
   "source": [
    "TP4_data_file = \"RNA_orignal.csv\"\n",
    "TP4_data = pd.read_csv(TP4_data_file,index_col=0)\n",
    "TP4_data.shape"
   ]
  },
  {
   "cell_type": "code",
   "execution_count": 17,
   "metadata": {
    "scrolled": false
   },
   "outputs": [
    {
     "data": {
      "text/plain": "                                                                 sequence  \\\nid                                                                          \nAF093014.1/662-809      CACUUUAAGUAAUGGAUGUCUUGGUUCUCAUAACGAUGAAGGACGC...   \nM14649.1/2015-2169      AACUUUCAGCGACGGAUGUCUCGGCUCGAACAACGAUGAAGGGCGC...   \nX53361.2/1206-1368      ACCUGUUGUGGUGGAUGUCUUGGCCCAGGUUCUGAGGAAGGACACA...   \nM86760.1/218-371        AACUUUCAGCAAUGGAUCUCUUGGUUCCCGCGUCGAUGAAGAACGU...   \nX00601.1/3997-4154      AAGCAUAAACGGUGAAUACCUCGACUCCUAAAUCGAUGAAGACCGU...   \nU48228.1/7-166          CAAUCUUAACGAUGGAUGUCUUGGUUCCUAUAGCGAUGAAGGCCGC...   \nU58510.1/2022-2198      AACCCUAGUGAUGGAUGUCUAGGCUCCCGUAUCGAUGAAGAACGUA...   \nAL049755.2/30863-31016  AACUUUCAGCAACGGAUCUCUUGGCUCUCGCAUCGAUGAAGAACGC...   \nU13369.1/6624-6776      GACUCUUAGCGGUGGAUCACUCGGCUCGUGCGUCGAUGAAGAACGC...   \nV01159.1/185-331        ACCGUUGGGCGAUGGAUUGCUUGGUGCCUGCUUCGACGAAGAGCGC...   \n\n                         classe  \nid                               \nAF093014.1/662-809      RF00002  \nM14649.1/2015-2169      RF00002  \nX53361.2/1206-1368      RF00002  \nM86760.1/218-371        RF00002  \nX00601.1/3997-4154      RF00002  \nU48228.1/7-166          RF00002  \nU58510.1/2022-2198      RF00002  \nAL049755.2/30863-31016  RF00002  \nU13369.1/6624-6776      RF00002  \nV01159.1/185-331        RF00002  ",
      "text/html": "<div>\n<style scoped>\n    .dataframe tbody tr th:only-of-type {\n        vertical-align: middle;\n    }\n\n    .dataframe tbody tr th {\n        vertical-align: top;\n    }\n\n    .dataframe thead th {\n        text-align: right;\n    }\n</style>\n<table border=\"1\" class=\"dataframe\">\n  <thead>\n    <tr style=\"text-align: right;\">\n      <th></th>\n      <th>sequence</th>\n      <th>classe</th>\n    </tr>\n    <tr>\n      <th>id</th>\n      <th></th>\n      <th></th>\n    </tr>\n  </thead>\n  <tbody>\n    <tr>\n      <th>AF093014.1/662-809</th>\n      <td>CACUUUAAGUAAUGGAUGUCUUGGUUCUCAUAACGAUGAAGGACGC...</td>\n      <td>RF00002</td>\n    </tr>\n    <tr>\n      <th>M14649.1/2015-2169</th>\n      <td>AACUUUCAGCGACGGAUGUCUCGGCUCGAACAACGAUGAAGGGCGC...</td>\n      <td>RF00002</td>\n    </tr>\n    <tr>\n      <th>X53361.2/1206-1368</th>\n      <td>ACCUGUUGUGGUGGAUGUCUUGGCCCAGGUUCUGAGGAAGGACACA...</td>\n      <td>RF00002</td>\n    </tr>\n    <tr>\n      <th>M86760.1/218-371</th>\n      <td>AACUUUCAGCAAUGGAUCUCUUGGUUCCCGCGUCGAUGAAGAACGU...</td>\n      <td>RF00002</td>\n    </tr>\n    <tr>\n      <th>X00601.1/3997-4154</th>\n      <td>AAGCAUAAACGGUGAAUACCUCGACUCCUAAAUCGAUGAAGACCGU...</td>\n      <td>RF00002</td>\n    </tr>\n    <tr>\n      <th>U48228.1/7-166</th>\n      <td>CAAUCUUAACGAUGGAUGUCUUGGUUCCUAUAGCGAUGAAGGCCGC...</td>\n      <td>RF00002</td>\n    </tr>\n    <tr>\n      <th>U58510.1/2022-2198</th>\n      <td>AACCCUAGUGAUGGAUGUCUAGGCUCCCGUAUCGAUGAAGAACGUA...</td>\n      <td>RF00002</td>\n    </tr>\n    <tr>\n      <th>AL049755.2/30863-31016</th>\n      <td>AACUUUCAGCAACGGAUCUCUUGGCUCUCGCAUCGAUGAAGAACGC...</td>\n      <td>RF00002</td>\n    </tr>\n    <tr>\n      <th>U13369.1/6624-6776</th>\n      <td>GACUCUUAGCGGUGGAUCACUCGGCUCGUGCGUCGAUGAAGAACGC...</td>\n      <td>RF00002</td>\n    </tr>\n    <tr>\n      <th>V01159.1/185-331</th>\n      <td>ACCGUUGGGCGAUGGAUUGCUUGGUGCCUGCUUCGACGAAGAGCGC...</td>\n      <td>RF00002</td>\n    </tr>\n  </tbody>\n</table>\n</div>"
     },
     "execution_count": 17,
     "metadata": {},
     "output_type": "execute_result"
    }
   ],
   "source": [
    "TP4_data[0:10]"
   ]
  },
  {
   "cell_type": "markdown",
   "metadata": {
    "pycharm": {
     "name": "#%% md\n"
    }
   },
   "source": [
    "# Q1\n",
    "## a)\n",
    "Un examen des données initiales revèle que les entrées dont la classes est absente contiennent en fait la classe dans la\n",
    "colonne \"sequence\", concaténée à la valeur de séquence génétique mais séparée par une virgule. Ce puisque les champs du\n",
    "fichier sont contenus entre des guillements doubles, mais pour ces entrées un guillemet ouvrant au début de la séquence génétique\n",
    "ne trouve pas son homologue fermant (il devrait être à la fin de la séquence) ce qui fait en sorte que la virgule est vue\n",
    "comme un simple caractère de ponctuation, au lieu de servir de séparateur pour le format CSV.\n",
    "\n",
    "Pour remédier à ce problème, nous utilisons les fonctions de la classe $\\textit{string}$ et nous sauvegardons le\n",
    "$\\textit{DataFrame}$ corrigé dans un nouveau fichier CSV intitulé \"RNA.csv\"."
   ]
  },
  {
   "cell_type": "code",
   "execution_count": 18,
   "metadata": {
    "pycharm": {
     "name": "#%%\n"
    }
   },
   "outputs": [],
   "source": [
    "# Get indexes for which the entries have no classe\n",
    "na_indexes = TP4_data['classe'].isna()\n",
    "\n",
    "data = TP4_data.copy()\n",
    "\n",
    "# Get missing classes & cleaned sequences\n",
    "split_vals = TP4_data.loc[na_indexes, 'sequence'].str.split(pat='[,\"]', expand=True)\n",
    "data.loc[na_indexes, 'classe'] = split_vals.iloc[:, 1]\n",
    "data.loc[na_indexes, 'sequence'] = split_vals.iloc[:, 0]\n",
    "\n",
    "# Save cleaned data\n",
    "data.to_csv('RNA.csv')\n",
    "\n",
    "# We'll free up unused variables to keep our dev space uncluttered\n",
    "del split_vals\n",
    "del na_indexes"
   ]
  },
  {
   "cell_type": "markdown",
   "metadata": {
    "pycharm": {
     "name": "#%% md\n"
    }
   },
   "source": [
    "## b)\n",
    "\n",
    "Il y a 12 classes dont la répartition est donnée dans la cellule de code suivante:"
   ]
  },
  {
   "cell_type": "code",
   "execution_count": 19,
   "metadata": {
    "pycharm": {
     "name": "#%%\n"
    }
   },
   "outputs": [
    {
     "name": "stdout",
     "output_type": "stream",
     "text": [
      "Il y a 12 classes\n",
      "La classe RF00008 contient 54 entrées\n",
      "La classe RF00004 contient 51 entrées\n",
      "La classe RF00017 contient 49 entrées\n",
      "La classe RF00002 contient 46 entrées\n",
      "La classe RF00003 contient 42 entrées\n",
      "La classe RF00023 contient 36 entrées\n",
      "La classe RF00015 contient 25 entrées\n",
      "La classe RF00024 contient 24 entrées\n",
      "La classe RF00011 contient 19 entrées\n",
      "La classe RF00012 contient 17 entrées\n",
      "La classe RF00025 contient 16 entrées\n",
      "La classe RF00019 contient 16 entrées\n"
     ]
    }
   ],
   "source": [
    "# Ceckout unique classes values and instances number for each classe\n",
    "print(f'Il y a {data.classe.unique().shape[0]} classes')\n",
    "for ix, cls in enumerate(data.classe.value_counts().index):\n",
    "    print(f'La classe {cls} contient {data.classe.value_counts()[ix]} entrées')"
   ]
  },
  {
   "cell_type": "markdown",
   "metadata": {
    "pycharm": {
     "name": "#%% md\n"
    }
   },
   "source": [
    "## c)\n",
    "\n",
    "Ici nous balançons le nombre de données en se défaussant des instances excédant le nombre minimal"
   ]
  },
  {
   "cell_type": "code",
   "execution_count": 20,
   "metadata": {
    "pycharm": {
     "name": "#%%\n"
    }
   },
   "outputs": [
    {
     "name": "stdout",
     "output_type": "stream",
     "text": [
      "Le nombre minimum d'instance d'une classe est 16 pour la classe:\n",
      "['RF00025' 'RF00019']\n",
      "Après traitement, les classes contiennent maintenant 16 instance chacune:\n",
      "La classe RF00019 contient 16 entrées\n",
      "La classe RF00008 contient 16 entrées\n",
      "La classe RF00011 contient 16 entrées\n",
      "La classe RF00015 contient 16 entrées\n",
      "La classe RF00003 contient 16 entrées\n",
      "La classe RF00004 contient 16 entrées\n",
      "La classe RF00023 contient 16 entrées\n",
      "La classe RF00012 contient 16 entrées\n",
      "La classe RF00024 contient 16 entrées\n",
      "La classe RF00002 contient 16 entrées\n",
      "La classe RF00025 contient 16 entrées\n",
      "La classe RF00017 contient 16 entrées\n"
     ]
    }
   ],
   "source": [
    "# Fint out the minimum instances number\n",
    "classes_rep = data.classe.value_counts()\n",
    "print(f'Le nombre minimum d\\'instance d\\'une classe est {classes_rep.min()} pour la classe:\\n'\n",
    "      f'{classes_rep[classes_rep == classes_rep.min()].index.values}')\n",
    "\n",
    "cut_off = classes_rep.min()\n",
    "\n",
    "# Trim off exceding instances\n",
    "for cls in classes_rep.index:\n",
    "    indexes_to_drop = data[data['classe'] == cls].index\n",
    "    if indexes_to_drop.shape[0] > cut_off:\n",
    "        data.drop(index=indexes_to_drop[16:], axis=0, inplace=True)\n",
    "\n",
    "print(f'Après traitement, les classes contiennent maintenant {cut_off} instance chacune:')\n",
    "for ix, cls in enumerate(data.classe.value_counts().index):\n",
    "    print(f'La classe {cls} contient {data.classe.value_counts()[ix]} entrées')\n",
    "\n",
    "del classes_rep\n",
    "del cut_off"
   ]
  },
  {
   "cell_type": "markdown",
   "metadata": {
    "pycharm": {
     "name": "#%% md\n"
    }
   },
   "source": [
    "# Q2\n",
    "## a)\n",
    "Ici nous ajoutons une colonne à notre $\\textit{dataframe}$ pour le nouvel attribut \"longueur\". Nous allons également encoder\n",
    "les classes en format numérique pour pouvoir calculer aisément la justesse des prédictions faites par notre modèle de\n",
    "$\\textit{K-Nearest-Neighbors}$."
   ]
  },
  {
   "cell_type": "code",
   "execution_count": 21,
   "metadata": {
    "pycharm": {
     "name": "#%%\n"
    }
   },
   "outputs": [
    {
     "name": "stdout",
     "output_type": "stream",
     "text": [
      "Le score de prédiction est: 0.717948717948718\n",
      "1     4\n",
      "3     3\n",
      "5     3\n",
      "6     3\n",
      "7     3\n",
      "10    3\n",
      "2     2\n",
      "4     2\n",
      "11    2\n",
      "0     1\n",
      "8     1\n",
      "9     1\n",
      "dtype: int64\n"
     ]
    }
   ],
   "source": [
    "# add longueur column\n",
    "data['longueur'] = data['sequence'].str.len().values\n",
    "\n",
    "# Encode classes labels to numerical values\n",
    "lencoder = LabelEncoder()\n",
    "data['encoded_classe'] = lencoder.fit_transform(data['classe'].values)\n",
    "\n",
    "# Prepare training/test data, train and predict\n",
    "X_train, X_test, y_train, y_test = train_test_split(data['longueur'].values,\n",
    "                                                    data['encoded_classe'].values,\n",
    "                                                    test_size=0.2,\n",
    "                                                    random_state=1)\n",
    "\n",
    "knn = KNeighborsClassifier()\n",
    "knn.fit(X=X_train.reshape(-1, 1), y=y_train)\n",
    "\n",
    "predictions = knn.predict(X=X_test.reshape(-1, 1))\n",
    "\n",
    "# Get the indexes of the wrong predictions\n",
    "wrong_indexes = predictions-y_test != 0\n",
    "\n",
    "# Print predictions accuracy\n",
    "print(f'Le score de prédiction est: {(y_test.shape[0] - wrong_indexes.sum())/y_test.shape[0]}')\n",
    "\n",
    "# Get correct prediction to determine which classes are most easily predicted based on sequence length\n",
    "right_preds = y_test[~wrong_indexes]\n",
    "\n",
    "# Get the 5 most frequent classes that are rightfully predicted\n",
    "print(pd.Series(right_preds).value_counts())\n",
    "fclasses = lencoder.inverse_transform(pd.Series(right_preds).value_counts()[0:5].index)\n",
    "md(f'Selon ce qu\\'on constate, les classe les mieux prédites avec le'+ r' $\\textit{KNN}$ basé sur la longueur de la séquence '\n",
    "   f'sont {fclasses}')\n",
    "\n",
    "# lets drop the five most easily predicted classes\n",
    "for cls in fclasses:\n",
    "    data.drop(index=data[data['classe'] == cls].index, axis=0, inplace=True)"
   ]
  },
  {
   "cell_type": "markdown",
   "metadata": {
    "pycharm": {
     "name": "#%% md\n"
    }
   },
   "source": [
    "## b) k-mers\n",
    "\n",
    "Dans un premier temps, il nous faut trouver toutes les permutations, incluant les répétitions, des nucléotides de l'ARN:"
   ]
  },
  {
   "cell_type": "code",
   "execution_count": 22,
   "metadata": {
    "pycharm": {
     "name": "#%%\n"
    }
   },
   "outputs": [
    {
     "name": "stdout",
     "output_type": "stream",
     "text": [
      "Samples of 1-mer list\n",
      "U\n",
      "C\n",
      "A\n",
      "G\n",
      "Samples of 2-mer list\n",
      "CA\n",
      "AC\n",
      "GC\n",
      "AA\n",
      "Samples of 3-mer list\n",
      "CAG\n",
      "ACG\n",
      "GGC\n",
      "UUA\n",
      "Samples of 4-mer list\n",
      "CCCU\n",
      "GUUA\n",
      "AGAA\n",
      "GCAG\n"
     ]
    }
   ],
   "source": [
    "nucleotides = ['A', 'C', 'G', 'U']\n",
    "max_kmer_length = 4\n",
    "\n",
    "kmer_lists = list()\n",
    "# for each length of kmer...\n",
    "for i in range(0, max_kmer_length):\n",
    "    # Create all permutations of that length, and the list they will be stored in\n",
    "    kmer = product(nucleotides, repeat=i+1)\n",
    "    kmer_lists.append(list())\n",
    "    l = kmer_lists[i]\n",
    "    for k in kmer:\n",
    "        # then store permutated values as string in a list\n",
    "        w = ''\n",
    "        for j in range(0, i+1):\n",
    "            w += k[j]\n",
    "        l.append(w)\n",
    "\n",
    "for ix, l in enumerate(kmer_lists):\n",
    "    print(f'Samples of {ix+1}-mer list')\n",
    "    for p in random.sample(l, max_kmer_length):\n",
    "        print(p)\n"
   ]
  },
  {
   "cell_type": "markdown",
   "metadata": {
    "pycharm": {
     "name": "#%% md\n"
    }
   },
   "source": [
    "Nous allons ensuite créer 4 nouveaux $\\textit{dataframes}$ pour faire le décompte du nombre d'occurence des k-mer dans\n",
    "les séquence de nucléotides, et ultimement pouvoir comparer les 4 présentations."
   ]
  },
  {
   "cell_type": "code",
   "execution_count": 23,
   "metadata": {
    "pycharm": {
     "name": "#%%\n"
    }
   },
   "outputs": [],
   "source": [
    "# Lets start by copying our main dataframe in 4 new dataframes, drop the columns we won't need and put them in a list\n",
    "df_list = list()\n",
    "for i in range(0, max_kmer_length):\n",
    "    df_list.append(data.copy())\n",
    "    df_list[i].drop(labels=['longueur'], inplace=True, axis=1)\n",
    "    # then lets add the needed columns in each new dataframe\n",
    "    for km in kmer_lists[i]:\n",
    "        df_list[i][km] = pd.Series(range(0, df_list[0].shape[0]))"
   ]
  },
  {
   "cell_type": "code",
   "execution_count": 24,
   "metadata": {
    "pycharm": {
     "name": "#%%\n"
    }
   },
   "outputs": [],
   "source": [
    "# Count the occurence of every k-mer for every sequence\n",
    "for df, kmlist in zip(df_list, kmer_lists):\n",
    "    for km in kmlist:\n",
    "        count = 0\n",
    "        for ix, row in df.iterrows():\n",
    "            # Here we use re.finditer() fct to get all k-mer occurence in a sequence\n",
    "            count = sum(1 for _ in finditer(km, row['sequence']))\n",
    "            df.loc[ix, km] = count"
   ]
  },
  {
   "cell_type": "code",
   "execution_count": 25,
   "metadata": {
    "pycharm": {
     "name": "#%%\n"
    }
   },
   "outputs": [
    {
     "name": "stdout",
     "output_type": "stream",
     "text": [
      "Lets show some k-mer counting samples...\n",
      "                     classe  encoded_classe     A     C     G     U\n",
      "id                                                                 \n",
      "AF093014.1/662-809  RF00002               0  51.0  26.0  26.0  45.0\n",
      "M14649.1/2015-2169  RF00002               0  42.0  34.0  42.0  37.0\n",
      "X53361.2/1206-1368  RF00002               0  33.0  42.0  52.0  36.0\n",
      "M86760.1/218-371    RF00002               0  39.0  31.0  38.0  46.0\n",
      "X00601.1/3997-4154  RF00002               0  47.0  29.0  40.0  42.0\n",
      "                     classe  encoded_classe    AA    AC    AG    AU    CA  \\\n",
      "id                                                                          \n",
      "AF093014.1/662-809  RF00002               0  14.0   8.0   9.0  18.0  13.0   \n",
      "M14649.1/2015-2169  RF00002               0  13.0   8.0   8.0  12.0   8.0   \n",
      "X53361.2/1206-1368  RF00002               0   6.0   9.0  13.0   4.0  11.0   \n",
      "M86760.1/218-371    RF00002               0  11.0   4.0   9.0  13.0  10.0   \n",
      "X00601.1/3997-4154  RF00002               0  10.0  11.0   8.0  14.0   7.0   \n",
      "\n",
      "                     CC    CG    CU    GA    GC    GG    GU    UA    UC    UG  \\\n",
      "id                                                                              \n",
      "AF093014.1/662-809  0.0   4.0   9.0   8.0   7.0   3.0   8.0  14.0  10.0  10.0   \n",
      "M14649.1/2015-2169  4.0  11.0  10.0  14.0  12.0   6.0   7.0   5.0   9.0  14.0   \n",
      "X53361.2/1206-1368  9.0   8.0  10.0  12.0  13.0  12.0  13.0   2.0   7.0  18.0   \n",
      "M86760.1/218-371    3.0   9.0   8.0  12.0  11.0   4.0  11.0   4.0  12.0  16.0   \n",
      "X00601.1/3997-4154  5.0   8.0   9.0  15.0   6.0   7.0   9.0  10.0   7.0  15.0   \n",
      "\n",
      "                      UU  \n",
      "id                        \n",
      "AF093014.1/662-809   7.0  \n",
      "M14649.1/2015-2169   6.0  \n",
      "X53361.2/1206-1368   9.0  \n",
      "M86760.1/218-371    10.0  \n",
      "X00601.1/3997-4154   9.0  \n",
      "                     classe  encoded_classe  AAA  AAC  AAG  AAU  ACA  ACC  \\\n",
      "id                                                                          \n",
      "AF093014.1/662-809  RF00002               0  2.0  4.0  4.0  6.0  2.0  0.0   \n",
      "M14649.1/2015-2169  RF00002               0  1.0  5.0  3.0  5.0  1.0  1.0   \n",
      "X53361.2/1206-1368  RF00002               0  1.0  3.0  3.0  0.0  3.0  1.0   \n",
      "M86760.1/218-371    RF00002               0  1.0  3.0  2.0  5.0  0.0  0.0   \n",
      "X00601.1/3997-4154  RF00002               0  4.0  3.0  2.0  5.0  2.0  2.0   \n",
      "\n",
      "                    ACG  ACU  ...  UCG  UCU  UGA  UGC  UGG  UGU  UUA  UUC  \\\n",
      "id                            ...                                           \n",
      "AF093014.1/662-809  3.0  3.0  ...  0.0  5.0  3.0  2.0  2.0  3.0  4.0  2.0   \n",
      "M14649.1/2015-2169  3.0  3.0  ...  3.0  2.0  6.0  4.0  0.0  4.0  0.0  4.0   \n",
      "X53361.2/1206-1368  3.0  1.0  ...  2.0  4.0  3.0  3.0  5.0  6.0  0.0  4.0   \n",
      "M86760.1/218-371    2.0  2.0  ...  2.0  2.0  5.0  4.0  4.0  3.0  0.0  4.0   \n",
      "X00601.1/3997-4154  2.0  5.0  ...  4.0  0.0  8.0  2.0  3.0  2.0  2.0  2.0   \n",
      "\n",
      "                    UUG  UUU  \n",
      "id                            \n",
      "AF093014.1/662-809  1.0  3.0  \n",
      "M14649.1/2015-2169  2.0  2.0  \n",
      "X53361.2/1206-1368  5.0  0.0  \n",
      "M86760.1/218-371    5.0  3.0  \n",
      "X00601.1/3997-4154  5.0  1.0  \n",
      "\n",
      "[5 rows x 66 columns]\n",
      "                     classe  encoded_classe  AAAA  AAAC  AAAG  AAAU  AACA  \\\n",
      "id                                                                          \n",
      "AF093014.1/662-809  RF00002               0   0.0   0.0   1.0   1.0   1.0   \n",
      "M14649.1/2015-2169  RF00002               0   0.0   0.0   0.0   1.0   1.0   \n",
      "X53361.2/1206-1368  RF00002               0   0.0   0.0   1.0   0.0   1.0   \n",
      "M86760.1/218-371    RF00002               0   1.0   0.0   0.0   1.0   0.0   \n",
      "X00601.1/3997-4154  RF00002               0   0.0   2.0   0.0   2.0   0.0   \n",
      "\n",
      "                    AACC  AACG  AACU  ...  UUCG  UUCU  UUGA  UUGC  UUGG  UUGU  \\\n",
      "id                                    ...                                       \n",
      "AF093014.1/662-809   0.0   2.0   1.0  ...   0.0   2.0   0.0   0.0   1.0   0.0   \n",
      "M14649.1/2015-2169   1.0   2.0   1.0  ...   1.0   0.0   1.0   1.0   0.0   0.0   \n",
      "X53361.2/1206-1368   0.0   1.0   1.0  ...   2.0   1.0   0.0   1.0   1.0   2.0   \n",
      "M86760.1/218-371     0.0   2.0   1.0  ...   0.0   1.0   2.0   2.0   1.0   0.0   \n",
      "X00601.1/3997-4154   0.0   2.0   1.0  ...   1.0   0.0   3.0   1.0   1.0   0.0   \n",
      "\n",
      "                    UUUA  UUUC  UUUG  UUUU  \n",
      "id                                          \n",
      "AF093014.1/662-809   3.0   0.0   0.0   0.0  \n",
      "M14649.1/2015-2169   0.0   2.0   0.0   0.0  \n",
      "X53361.2/1206-1368   0.0   0.0   0.0   0.0  \n",
      "M86760.1/218-371     0.0   1.0   2.0   1.0  \n",
      "X00601.1/3997-4154   0.0   1.0   0.0   0.0  \n",
      "\n",
      "[5 rows x 258 columns]\n"
     ]
    }
   ],
   "source": [
    "print('Lets show some k-mer counting samples...')\n",
    "for df in df_list:\n",
    "    print(df.loc[:, df.columns != 'sequence'].head())"
   ]
  },
  {
   "cell_type": "markdown",
   "metadata": {
    "pycharm": {
     "name": "#%% md\n"
    }
   },
   "source": [
    "Comme on devait s'y attendre, on voit que les fréquences des k-mer est inversement prortionnelle à leurs longueurs.\n",
    "\n",
    "Une fois le décompte fait, il ne reste qu'à créer les modèles de classification que l'on souhaite tester. Le compte\n",
    "de kmers nous donnes des vecteurs $v$ tels que $v \\in \\mathbb{N_0^{n}},\\, n=4,16,64,256$. Dans un premier temps, nous\n",
    "évaluerons la qualité du clustering à l'aide des méthodes quantitatives, puis nous vérifirons la distribution des valeurs\n",
    "pour chaque dimension et pour chaque table de k-mer pour voir si les méthodes faisant l'hypothèse gaussienne devraient être\n",
    "utilisées."
   ]
  },
  {
   "cell_type": "code",
   "execution_count": 40,
   "metadata": {
    "pycharm": {
     "name": "#%%\n"
    }
   },
   "outputs": [
    {
     "name": "stdout",
     "output_type": "stream",
     "text": [
      "\n",
      "Les résultats de chaque modèle pour 1-mer sont:\n",
      "SVC 0.866798418972332\n",
      "KNeighbors 0.8494071146245059\n",
      "DecisionTree 0.7861660079051385\n",
      "RandomForest 0.8853754940711462\n",
      "RandomForest2 0.867588932806324\n",
      "MLPClassifier 0.7948616600790513\n",
      "\n",
      "Les résultats de chaque modèle pour 2-mer sont:\n",
      "SVC 0.9296442687747035\n",
      "KNeighbors 0.9387351778656127\n",
      "DecisionTree 0.7600790513833993\n",
      "RandomForest 0.9391304347826086\n",
      "RandomForest2 0.9209486166007904\n",
      "MLPClassifier 0.875889328063241\n",
      "\n",
      "Les résultats de chaque modèle pour 3-mer sont:\n",
      "SVC 0.9561264822134387\n",
      "KNeighbors 0.9387351778656126\n",
      "DecisionTree 0.7782608695652175\n",
      "RandomForest 0.9296442687747035\n",
      "RandomForest2 0.8936758893280633\n",
      "MLPClassifier 0.9110671936758893\n",
      "\n",
      "Les résultats de chaque modèle pour 4-mer sont:\n",
      "SVC 0.9735177865612649\n",
      "KNeighbors 0.86600790513834\n",
      "DecisionTree 0.8312252964426877\n",
      "RandomForest 0.9822134387351777\n",
      "RandomForest2 0.9652173913043478\n",
      "MLPClassifier 0.9193675889328062\n"
     ]
    }
   ],
   "source": [
    "#TODO verify clustering\n",
    "\n",
    "#TODO verify variables distribution\n",
    "\n",
    "for df, km in zip(df_list, kmer_lists):\n",
    "\n",
    "    # Create our models\n",
    "    models = list()\n",
    "    models.append((\"SVC\",SVC()))\n",
    "    models.append((\"KNeighbors\",KNeighborsClassifier()))\n",
    "    models.append((\"DecisionTree\",DecisionTreeClassifier()))\n",
    "    models.append((\"RandomForest\",RandomForestClassifier()))\n",
    "    rf2 = RandomForestClassifier(n_estimators=100, criterion='gini', max_depth=10, random_state=0, max_features=None)\n",
    "    models.append((\"RandomForest2\",rf2))\n",
    "    models.append((\"MLPClassifier\",MLPClassifier(solver='lbfgs', random_state=0, max_iter=500)))\n",
    "\n",
    "    results = list()\n",
    "    names = list()\n",
    "\n",
    "    # Train and test them using cross-validation\n",
    "    for name,model in models:\n",
    "        result = cross_val_score(model, df.loc[:, km], df['encoded_classe'],  cv=5)\n",
    "        names.append(name)\n",
    "        results.append(result)\n",
    "\n",
    "    # Print results\n",
    "    print(f'\\nLes résultats de chaque modèle pour {int(np.log2(len(km))/np.log2(4))}-mer sont:')\n",
    "    for i in range(len(names)):\n",
    "        print(f'{names[i]} {results[i].mean()}')"
   ]
  }
 ],
 "metadata": {
  "kernelspec": {
   "display_name": "PyCharm (IFT870-TP1)",
   "language": "python",
   "name": "pycharm-aff07955"
  },
  "language_info": {
   "codemirror_mode": {
    "name": "ipython",
    "version": 3
   },
   "file_extension": ".py",
   "mimetype": "text/x-python",
   "name": "python",
   "nbconvert_exporter": "python",
   "pygments_lexer": "ipython3",
   "version": "3.8.5"
  }
 },
 "nbformat": 4,
 "nbformat_minor": 4
}